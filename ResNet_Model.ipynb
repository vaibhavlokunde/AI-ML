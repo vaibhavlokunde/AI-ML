{
  "nbformat": 4,
  "nbformat_minor": 0,
  "metadata": {
    "colab": {
      "provenance": [],
      "gpuType": "T4",
      "authorship_tag": "ABX9TyNmVdLCSM25otMZgRlJ84Ig",
      "include_colab_link": true
    },
    "kernelspec": {
      "name": "python3",
      "display_name": "Python 3"
    },
    "language_info": {
      "name": "python"
    },
    "accelerator": "GPU"
  },
  "cells": [
    {
      "cell_type": "markdown",
      "metadata": {
        "id": "view-in-github",
        "colab_type": "text"
      },
      "source": [
        "<a href=\"https://colab.research.google.com/github/vaibhavlokunde/AI-ML/blob/main/ResNet_Model.ipynb\" target=\"_parent\"><img src=\"https://colab.research.google.com/assets/colab-badge.svg\" alt=\"Open In Colab\"/></a>"
      ]
    },
    {
      "cell_type": "code",
      "execution_count": 1,
      "metadata": {
        "id": "J4kyKcyg_WOI"
      },
      "outputs": [],
      "source": [
        "import torch\n",
        "from torch import nn"
      ]
    },
    {
      "cell_type": "code",
      "source": [
        "class block(nn.Module):\n",
        "  def __init__(self,in_channels,out_channels,identity_downsample=None,stride=1):\n",
        "    super(block,self).__init__()\n",
        "\n",
        "    self.expansion=4\n",
        "    self.conv1=nn.Conv2d(in_channels,out_channels,kernel_size=1,stride=1,padding=0)\n",
        "    self.bn1=nn.BatchNorm2d(out_channels)\n",
        "    self.conv2=nn.Conv2d(out_channels,out_channels,kernel_size=3,stride=stride,padding=1)\n",
        "    self.bn2=nn.BatchNorm2d(out_channels)\n",
        "    self.conv3=nn.Conv2d(out_channels,out_channels*self.expansion,kernel_size=1,stride=1,padding=0)\n",
        "    self.bn3=nn.BatchNorm2d(out_channels*self.expansion)\n",
        "    self.relu=nn.ReLU()\n",
        "    self.identity_downsample=identity_downsample\n",
        "\n",
        "  def forward(self,x):\n",
        "    identity=x;\n",
        "    x=self.conv1(x)\n",
        "    x=self.bn1(x)\n",
        "    x=self.relu(x)\n",
        "    x=self.conv2(x)\n",
        "    x=self.bn2(x)\n",
        "    x=self.relu(x)\n",
        "    x=self.conv3(x)\n",
        "    x=self.bn3(x)\n",
        "\n",
        "    if self.identity_downsample is not None:\n",
        "      identity=self.identity_downsample(identity)\n",
        "    x+=identity\n",
        "    x=self.relu(x)\n",
        "    return x"
      ],
      "metadata": {
        "id": "Kyp21kFdBZpY"
      },
      "execution_count": 2,
      "outputs": []
    },
    {
      "cell_type": "code",
      "source": [
        "class ResNet(nn.Module):\n",
        "  def __init__(self,block,layers,image_channels,num_classes):\n",
        "    super(ResNet,self).__init__()\n",
        "    self.in_channels=64\n",
        "    self.conv1=nn.Conv2d(image_channels,64,kernel_size=7,stride=2,padding=3)\n",
        "    self.bn1=nn.BatchNorm2d(64)\n",
        "    self.relu=nn.ReLU()\n",
        "    self.maxpool=nn.MaxPool2d(kernel_size=3,stride=2,padding=1)\n",
        "\n",
        "    self.layer1=self._make_layer(block,layers[0],out_channels=64,stride=1)\n",
        "    self.layer2=self._make_layer(block,layers[1],out_channels=128,stride=2)\n",
        "    self.layer3=self._make_layer(block,layers[2],out_channels=256,stride=2)\n",
        "    self.layer4=self._make_layer(block,layers[3],out_channels=512,stride=2)\n",
        "\n",
        "    self.avgpool=nn.AdaptiveAvgPool2d((1,1))\n",
        "    self.fc=nn.Linear(512*4,num_classes)\n",
        "\n",
        "  def forward(self,x):\n",
        "    x=self.conv1(x)\n",
        "    x=self.bn1(x)\n",
        "    x=self.relu(x)\n",
        "    x=self.maxpool(x)\n",
        "    x=self.layer1(x)\n",
        "    x=self.layer2(x)\n",
        "    x=self.layer3(x)\n",
        "    x=self.layer4(x)\n",
        "\n",
        "    x=self.avgpool(x)\n",
        "    x=x.reshape(x.shape[0],-1)\n",
        "    x=self.fc(x)\n",
        "    return x\n",
        "\n",
        "  def _make_layer(self,block,num_residual_blocks,out_channels,stride):\n",
        "    identity_downsample=None\n",
        "    layers=[]\n",
        "\n",
        "    if stride!=1 or self.in_channels!=out_channels*4:\n",
        "      identity_downsample=nn.Sequential\t(\n",
        "          nn.Conv2d(self.in_channels,out_channels*4,kernel_size=1,stride=stride),\n",
        "          nn.BatchNorm2d(out_channels*4)\n",
        "      )\n",
        "\n",
        "    layers.append(block(self.in_channels,out_channels,identity_downsample,stride))\n",
        "    self.in_channels=out_channels*4\n",
        "\n",
        "    for i in range(num_residual_blocks-1):\n",
        "      layers.append(block(self.in_channels,out_channels))\n",
        "\n",
        "    return nn.Sequential(*layers)"
      ],
      "metadata": {
        "id": "ZLjGwBUBCabj"
      },
      "execution_count": 4,
      "outputs": []
    },
    {
      "cell_type": "code",
      "source": [
        "def ResNet50(image_channels=3,num_classes=1000):\n",
        "  return ResNet(block,[3,4,6,3],image_channels,num_classes)\n",
        "\n",
        "def ResNet101(image_channels=3,num_classes=1000):\n",
        "  return ResNet(block,[3,4,23,3],image_channels,num_classes)\n",
        "\n",
        "def ResNet152(image_channels=3,num_classes=1000):\n",
        "  return ResNet(block,[3,8,36,3],image_channels,num_classes)\n",
        "\n",
        "def test():\n",
        "  x=torch.randn(2,3,224,224)\n",
        "  model=ResNet50()\n",
        "  y=model(x).to('cuda')\n",
        "  print(y.shape)\n",
        "\n",
        "test()"
      ],
      "metadata": {
        "colab": {
          "base_uri": "https://localhost:8080/"
        },
        "id": "4XIx_cxjIpGx",
        "outputId": "d66f8cbc-4d28-4bef-f54d-b78f79fda0d4"
      },
      "execution_count": 5,
      "outputs": [
        {
          "output_type": "stream",
          "name": "stdout",
          "text": [
            "torch.Size([2, 1000])\n"
          ]
        }
      ]
    },
    {
      "cell_type": "code",
      "source": [],
      "metadata": {
        "id": "u-kqj3NXJexM"
      },
      "execution_count": null,
      "outputs": []
    }
  ]
}