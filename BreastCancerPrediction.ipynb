{
  "nbformat": 4,
  "nbformat_minor": 0,
  "metadata": {
    "colab": {
      "provenance": [],
      "gpuType": "T4",
      "authorship_tag": "ABX9TyNnO8V20j9Pyf5/7wKpOyEI",
      "include_colab_link": true
    },
    "kernelspec": {
      "name": "python3",
      "display_name": "Python 3"
    },
    "language_info": {
      "name": "python"
    },
    "accelerator": "GPU"
  },
  "cells": [
    {
      "cell_type": "markdown",
      "metadata": {
        "id": "view-in-github",
        "colab_type": "text"
      },
      "source": [
        "<a href=\"https://colab.research.google.com/github/vaibhavlokunde/AI-ML/blob/main/BreastCancerPrediction.ipynb\" target=\"_parent\"><img src=\"https://colab.research.google.com/assets/colab-badge.svg\" alt=\"Open In Colab\"/></a>"
      ]
    },
    {
      "cell_type": "code",
      "execution_count": 1,
      "metadata": {
        "id": "VTqNPMLqeWsY"
      },
      "outputs": [],
      "source": [
        "import torch\n",
        "from torch import nn\n",
        "import matplotlib.pyplot as plt\n",
        "import sklearn"
      ]
    },
    {
      "cell_type": "code",
      "source": [
        "if torch.cuda.is_available():\n",
        "  device=\"cuda\"\n",
        "else:\n",
        "  device=\"cpu\"\n",
        "device"
      ],
      "metadata": {
        "colab": {
          "base_uri": "https://localhost:8080/",
          "height": 36
        },
        "id": "DSpsiAXdg9Ri",
        "outputId": "18fd6013-58b9-45e8-bd47-73a579b44b82"
      },
      "execution_count": 4,
      "outputs": [
        {
          "output_type": "execute_result",
          "data": {
            "text/plain": [
              "'cpu'"
            ],
            "application/vnd.google.colaboratory.intrinsic+json": {
              "type": "string"
            }
          },
          "metadata": {},
          "execution_count": 4
        }
      ]
    },
    {
      "cell_type": "code",
      "source": [
        "from sklearn.datasets import load_breast_cancer\n",
        "data=load_breast_cancer()\n",
        "X=data.data\n",
        "y=data.target"
      ],
      "metadata": {
        "id": "eT0gv1KzgqP1"
      },
      "execution_count": 2,
      "outputs": []
    },
    {
      "cell_type": "code",
      "source": [
        "from sklearn.model_selection import train_test_split\n",
        "\n",
        "X_train,X_test,y_train,y_test=train_test_split(X,y,\n",
        "                                               test_size=0.2,\n",
        "                                               random_state=42)"
      ],
      "metadata": {
        "id": "U8ldTZNfg72h"
      },
      "execution_count": 7,
      "outputs": []
    },
    {
      "cell_type": "code",
      "source": [
        "len(X_train),len(X_test),len(y_train),len(y_test)"
      ],
      "metadata": {
        "colab": {
          "base_uri": "https://localhost:8080/"
        },
        "id": "K7upTw2Mh-oa",
        "outputId": "2ec8296c-7af9-47a5-9048-09a2c503d5ca"
      },
      "execution_count": 8,
      "outputs": [
        {
          "output_type": "execute_result",
          "data": {
            "text/plain": [
              "(455, 114, 455, 114)"
            ]
          },
          "metadata": {},
          "execution_count": 8
        }
      ]
    },
    {
      "cell_type": "code",
      "source": [
        "from sklearn.preprocessing import StandardScaler\n",
        "scaler=StandardScaler()\n",
        "\n",
        "X_train=scaler.fit_transform(X_train)\n",
        "X_test=scaler.transform(X_test)"
      ],
      "metadata": {
        "id": "vzm7NN-rlQl8"
      },
      "execution_count": 9,
      "outputs": []
    },
    {
      "cell_type": "code",
      "source": [
        "X_train=torch.from_numpy(X_train).type(torch.float)\n",
        "X_test=torch.from_numpy(X_test).type(torch.float)\n",
        "y_train=torch.from_numpy(y_train).type(torch.float)\n",
        "y_test=torch.from_numpy(y_test).type(torch.float)"
      ],
      "metadata": {
        "id": "p97gJZhomFCd"
      },
      "execution_count": 10,
      "outputs": []
    },
    {
      "cell_type": "code",
      "source": [
        "class BreastCancerModelV1(nn.Module):\n",
        "  def __init__(self,in_size,hidden_units,out_size):\n",
        "    super().__init__()\n",
        "    self.fc1=nn.Linear(in_size,hidden_units)\n",
        "    self.relu=nn.ReLU()\n",
        "    self.fc2=nn.Linear(hidden_units,out_size)\n",
        "    self.sigmoid=nn.Sigmoid()\n",
        "\n",
        "  def forward(self,x):\n",
        "    x=self.fc1(x)\n",
        "    x=self.relu(x)\n",
        "    x=self.fc2(x)\n",
        "    x=self.sigmoid(x)\n",
        "    return x\n"
      ],
      "metadata": {
        "id": "7Rn47BFFmKGq"
      },
      "execution_count": 21,
      "outputs": []
    },
    {
      "cell_type": "code",
      "source": [
        "input_size=X_train.shape[1]\n",
        "hidden_size=64\n",
        "output_size=1"
      ],
      "metadata": {
        "id": "vd27KRNem0E4"
      },
      "execution_count": 22,
      "outputs": []
    },
    {
      "cell_type": "code",
      "source": [
        "model_1=BreastCancerModelV1(input_size,hidden_size,output_size)\n",
        "model_1"
      ],
      "metadata": {
        "colab": {
          "base_uri": "https://localhost:8080/"
        },
        "id": "yiZQMvIxm7Sr",
        "outputId": "7c92a001-0c40-4524-97df-6130f4120e15"
      },
      "execution_count": 26,
      "outputs": [
        {
          "output_type": "execute_result",
          "data": {
            "text/plain": [
              "BreastCancerModelV1(\n",
              "  (fc1): Linear(in_features=30, out_features=64, bias=True)\n",
              "  (relu): ReLU()\n",
              "  (fc2): Linear(in_features=64, out_features=1, bias=True)\n",
              "  (sigmoid): Sigmoid()\n",
              ")"
            ]
          },
          "metadata": {},
          "execution_count": 26
        }
      ]
    },
    {
      "cell_type": "code",
      "source": [
        "loss_fn=nn.BCELoss()\n",
        "optimizer=torch.optim.Adam(params=model_1.parameters(),lr=0.001)"
      ],
      "metadata": {
        "id": "2XClIi9em-LR"
      },
      "execution_count": 27,
      "outputs": []
    },
    {
      "cell_type": "code",
      "source": [
        "def accuracy(y_true,y_pred):\n",
        "  correct=torch.eq(y_true,y_pred).sum().item()\n",
        "  acc=correct/len(y_pred)\n",
        "  return acc"
      ],
      "metadata": {
        "id": "vKkgJ-xYnmN4"
      },
      "execution_count": 28,
      "outputs": []
    },
    {
      "cell_type": "code",
      "source": [
        "epochs=100\n",
        "\n",
        "for epoch in range(epochs):\n",
        "  model_1.train()\n",
        "\n",
        "  y_pred=model_1(X_train).squeeze()\n",
        "\n",
        "  loss=loss_fn(y_pred,y_train)\n",
        "\n",
        "  optimizer.zero_grad()\n",
        "\n",
        "  loss.backward()\n",
        "\n",
        "  optimizer.step()\n",
        "\n",
        "  with torch.no_grad():\n",
        "    predicted=y_pred.round()\n",
        "    correct=torch.eq(y_train,predicted).sum().item()\n",
        "    acc=correct/len(y_pred)\n",
        "\n",
        "  if epoch%10==0:\n",
        "    print(f\"Epoch:{epoch} | Loss:{loss} | Test Accuracy:{acc}\")"
      ],
      "metadata": {
        "colab": {
          "base_uri": "https://localhost:8080/"
        },
        "id": "lgQ0f1VjnFSu",
        "outputId": "f7082a75-5c59-43b9-f3b3-1955e4ddb153"
      },
      "execution_count": 30,
      "outputs": [
        {
          "output_type": "stream",
          "name": "stdout",
          "text": [
            "Epoch:0 | Loss:0.6320874691009521 | Test Accuracy:0.8263736263736263\n",
            "Epoch:10 | Loss:0.4958104193210602 | Test Accuracy:0.9274725274725275\n",
            "Epoch:20 | Loss:0.3895378112792969 | Test Accuracy:0.9384615384615385\n",
            "Epoch:30 | Loss:0.3070855140686035 | Test Accuracy:0.9384615384615385\n",
            "Epoch:40 | Loss:0.2462954968214035 | Test Accuracy:0.9362637362637363\n",
            "Epoch:50 | Loss:0.20282717049121857 | Test Accuracy:0.9406593406593406\n",
            "Epoch:60 | Loss:0.17184151709079742 | Test Accuracy:0.9472527472527472\n",
            "Epoch:70 | Loss:0.1493539810180664 | Test Accuracy:0.9604395604395605\n",
            "Epoch:80 | Loss:0.13243110477924347 | Test Accuracy:0.9626373626373627\n",
            "Epoch:90 | Loss:0.11920434981584549 | Test Accuracy:0.967032967032967\n"
          ]
        }
      ]
    },
    {
      "cell_type": "code",
      "source": [
        "model_1.eval()\n",
        "with torch.inference_mode():\n",
        "  y_pred=model_1(X_test).squeeze()\n",
        "  loss=loss_fn(y_pred,y_test)\n",
        "  predicted=y_pred.round()\n",
        "  acc=accuracy(y_test,predicted)\n",
        "\n",
        "print(f\"Model accuracy is:{acc*100}%\")"
      ],
      "metadata": {
        "colab": {
          "base_uri": "https://localhost:8080/"
        },
        "id": "MrhlYVhjoLpt",
        "outputId": "a183b7c4-40ee-45c5-b250-12315f8af226"
      },
      "execution_count": 34,
      "outputs": [
        {
          "output_type": "stream",
          "name": "stdout",
          "text": [
            "Model accuracy is:97.36842105263158%\n"
          ]
        }
      ]
    },
    {
      "cell_type": "code",
      "source": [],
      "metadata": {
        "id": "4RRg7InipddQ"
      },
      "execution_count": null,
      "outputs": []
    }
  ]
}