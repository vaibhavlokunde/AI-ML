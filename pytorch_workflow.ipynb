{
  "nbformat": 4,
  "nbformat_minor": 0,
  "metadata": {
    "colab": {
      "provenance": [],
      "authorship_tag": "ABX9TyPSx4wAsSZmEuqJDWCOfAiY",
      "include_colab_link": true
    },
    "kernelspec": {
      "name": "python3",
      "display_name": "Python 3"
    },
    "language_info": {
      "name": "python"
    }
  },
  "cells": [
    {
      "cell_type": "markdown",
      "metadata": {
        "id": "view-in-github",
        "colab_type": "text"
      },
      "source": [
        "<a href=\"https://colab.research.google.com/github/vaibhavlokunde/AI-ML/blob/main/pytorch_workflow.ipynb\" target=\"_parent\"><img src=\"https://colab.research.google.com/assets/colab-badge.svg\" alt=\"Open In Colab\"/></a>"
      ]
    },
    {
      "cell_type": "code",
      "execution_count": 16,
      "metadata": {
        "id": "amu8hqeAgcPP"
      },
      "outputs": [],
      "source": [
        "import torch\n",
        "from torch import nn #nn contains all of pytorch's building blocks for neural networks\n",
        "import matplotlib.pyplot as plt"
      ]
    },
    {
      "cell_type": "code",
      "source": [
        "torch.__version__"
      ],
      "metadata": {
        "colab": {
          "base_uri": "https://localhost:8080/",
          "height": 36
        },
        "id": "lpg0fzGXk4LH",
        "outputId": "417a28b0-1c07-433a-a477-ed557b402b3a"
      },
      "execution_count": 17,
      "outputs": [
        {
          "output_type": "execute_result",
          "data": {
            "text/plain": [
              "'2.5.1+cu121'"
            ],
            "application/vnd.google.colaboratory.intrinsic+json": {
              "type": "string"
            }
          },
          "metadata": {},
          "execution_count": 17
        }
      ]
    },
    {
      "cell_type": "code",
      "source": [
        "#known parameters\n",
        "weight = 0.7\n",
        "bias = 0.3\n",
        "\n",
        "start = 0\n",
        "end = 1\n",
        "step = 0.02\n",
        "X = torch.arange(start, end, step).unsqueeze(dim=1)\n",
        "y = weight * X + bias\n",
        "\n",
        "X[:10],y[:10],X.device"
      ],
      "metadata": {
        "colab": {
          "base_uri": "https://localhost:8080/"
        },
        "id": "wiucg9gnk6sU",
        "outputId": "eaa89ef8-cfea-467d-fe1d-9d582e575f3d"
      },
      "execution_count": 32,
      "outputs": [
        {
          "output_type": "execute_result",
          "data": {
            "text/plain": [
              "(tensor([[0.0000],\n",
              "         [0.0200],\n",
              "         [0.0400],\n",
              "         [0.0600],\n",
              "         [0.0800],\n",
              "         [0.1000],\n",
              "         [0.1200],\n",
              "         [0.1400],\n",
              "         [0.1600],\n",
              "         [0.1800]]),\n",
              " tensor([[0.3000],\n",
              "         [0.3140],\n",
              "         [0.3280],\n",
              "         [0.3420],\n",
              "         [0.3560],\n",
              "         [0.3700],\n",
              "         [0.3840],\n",
              "         [0.3980],\n",
              "         [0.4120],\n",
              "         [0.4260]]),\n",
              " device(type='cpu'))"
            ]
          },
          "metadata": {},
          "execution_count": 32
        }
      ]
    },
    {
      "cell_type": "code",
      "source": [
        "len(X),len(y)"
      ],
      "metadata": {
        "id": "Nz_cuo_oo7LK",
        "colab": {
          "base_uri": "https://localhost:8080/"
        },
        "outputId": "feb403ec-b9f8-4af4-8047-4fdd8aeee2dc"
      },
      "execution_count": 19,
      "outputs": [
        {
          "output_type": "execute_result",
          "data": {
            "text/plain": [
              "(50, 50)"
            ]
          },
          "metadata": {},
          "execution_count": 19
        }
      ]
    },
    {
      "cell_type": "markdown",
      "source": [
        "##Splitting the data into training and test sets\n",
        "\n",
        "training set is 80% of the total data\n",
        "\n",
        "testing set is rest 20%\n",
        "\n",
        "**Phases**:   training set -> Validation test ->testing set\n",
        "\n",
        "validation test is not always done but train/test is always done"
      ],
      "metadata": {
        "id": "bM7t56mVPOeR"
      }
    },
    {
      "cell_type": "code",
      "source": [
        "#create a train/test split\n",
        "train_split=int(0.8*len(X))\n",
        "X_train,y_train=X[:train_split],y[:train_split]\n",
        "X_test,y_test=X[train_split:],y[train_split:]\n",
        "\n",
        "len(X_train),len(y_train),len(X_test),len(y_test)"
      ],
      "metadata": {
        "colab": {
          "base_uri": "https://localhost:8080/"
        },
        "id": "8kMfLWckO0vD",
        "outputId": "a30179c3-e132-4866-ed3c-733754bfee7f"
      },
      "execution_count": 20,
      "outputs": [
        {
          "output_type": "execute_result",
          "data": {
            "text/plain": [
              "(40, 40, 10, 10)"
            ]
          },
          "metadata": {},
          "execution_count": 20
        }
      ]
    },
    {
      "cell_type": "markdown",
      "source": [
        "By default, if you don't call plt.figure(), Matplotlib will create a figure automatically when you start plotting.\n",
        "However, explicitly using plt.figure() gives you more control over the figure's properties, like its size, resolution, and other settings.\n",
        "You can create multiple figures and switch between them using plt.figure(figure_number), where figure_number is an integer.\n",
        "In summary: plt.figure() is used to create and manage figures in Matplotlib, which serve as containers for your plots. It helps you organize and customize your visualizations."
      ],
      "metadata": {
        "id": "wHNUR2NUTf6b"
      }
    },
    {
      "cell_type": "code",
      "source": [
        "def plot_predictions(train_data=X_train,\n",
        "                     train_label=y_train,\n",
        "                     test_data=X_test,\n",
        "                     test_label=y_test,\n",
        "                     predictions=None):\n",
        "\n",
        "    plt.scatter(train_data, train_label, c=\"b\", s=4, label=\"Training Data\")\n",
        "    plt.scatter(test_data, test_label, c=\"g\", s=4, label=\"Testing Data\")\n",
        "\n",
        "    if predictions is not None:\n",
        "      plt.scatter(test_data, predictions, c=\"r\", s=4, label=\"Predictions\")\n",
        "\n",
        "    plt.legend(prop={\"size\": 8})\n",
        "\n",
        "    plt.show()\n",
        "\n"
      ],
      "metadata": {
        "id": "QLGUqC2xPxxe"
      },
      "execution_count": 21,
      "outputs": []
    },
    {
      "cell_type": "code",
      "source": [
        "plot_predictions() #Here blue dots are the training sets and green is test sets"
      ],
      "metadata": {
        "colab": {
          "base_uri": "https://localhost:8080/",
          "height": 430
        },
        "id": "df3IQ2KYS3TQ",
        "outputId": "60d25651-8715-4523-c560-9dca79866a88"
      },
      "execution_count": 22,
      "outputs": [
        {
          "output_type": "display_data",
          "data": {
            "text/plain": [
              "<Figure size 640x480 with 1 Axes>"
            ],
            "image/png": "[encoded data removed]"
          },
          "metadata": {}
        }
      ]
    },
    {
      "cell_type": "markdown",
      "source": [
        "**2.BUILDING A MODEL**\n",
        "\n",
        "our first Pytorch Model"
      ],
      "metadata": {
        "id": "fpr5DglDWICE"
      }
    },
    {
      "cell_type": "markdown",
      "source": [
        "Syntax for defining return type\n",
        "\n",
        "def function_name(parameters:parameter_type) -> return_type:\n",
        "   \n",
        "    return value"
      ],
      "metadata": {
        "id": "IvthTafyZZOT"
      }
    },
    {
      "cell_type": "code",
      "source": [
        "from torch import nn\n",
        "class LinearRegressionModel(nn.Module):\n",
        "  def __init__(self):\n",
        "    super().__init__()\n",
        "\n",
        "    #Initialize Model parameters\n",
        "    self.weights=nn.Parameter(torch.randn(1,requires_grad=True,dtype=torch.float)) #randn means random variables with normal distributiong form ie mean 0 and standard deviation 1\n",
        "    #requires_grad is already initialized as True int nn.Parameters function\n",
        "    self.bias=nn.Parameter(torch.randn(1,requires_grad=True,dtype=torch.float))\n",
        "\n",
        "    #forward() defines the computation in the model\n",
        "  def forward(self,x:torch.Tensor)->torch.Tensor:\n",
        "    return self.weights * x + self.bias\n",
        "#"
      ],
      "metadata": {
        "id": "et5sqJCPTc2a"
      },
      "execution_count": 23,
      "outputs": []
    },
    {
      "cell_type": "markdown",
      "source": [
        "requires_grad=True is necessary for parameters that need to be updated during training.\n",
        "It allows PyTorch to compute gradients automatically via backpropagation.\n",
        "For machine learning models, this is crucial"
      ],
      "metadata": {
        "id": "slf0tM6FbzY7"
      }
    },
    {
      "cell_type": "markdown",
      "source": [
        "**Pytorch model essentials**"
      ],
      "metadata": {
        "id": "l3bFDx-7l3K0"
      }
    },
    {
      "cell_type": "markdown",
      "source": [
        "* torch.nn- Contains all of the buildings for computational graphs\n",
        "* torch.nn.Parameters-what parameters should our model try and learn\n",
        "* torch.nn.Module-The base class for all neural network modules, if you subclass it you should overrise forward()\n",
        "* torch.optim-this is where the optimizers live,they will help in gradient descent\n",
        "* def forward() -All nn.Module subclass require you to use forward(), this is used to define what the module has to do"
      ],
      "metadata": {
        "id": "TMGngezXl6Pe"
      }
    },
    {
      "cell_type": "code",
      "source": [
        "#create a tp model\n",
        "torch.manual_seed(42)\n",
        "model_0=LinearRegressionModel()\n",
        "model_0"
      ],
      "metadata": {
        "colab": {
          "base_uri": "https://localhost:8080/"
        },
        "id": "47fJY-QWb_Hf",
        "outputId": "09f27548-6a87-47a9-c54d-95b617569e19"
      },
      "execution_count": 24,
      "outputs": [
        {
          "output_type": "execute_result",
          "data": {
            "text/plain": [
              "LinearRegressionModel()"
            ]
          },
          "metadata": {},
          "execution_count": 24
        }
      ]
    },
    {
      "cell_type": "code",
      "source": [
        "list(model_0.parameters())"
      ],
      "metadata": {
        "colab": {
          "base_uri": "https://localhost:8080/"
        },
        "id": "PZPo8IxWpwNN",
        "outputId": "9b8a43e4-6b58-4f03-ab90-bcebbc4eb08d"
      },
      "execution_count": 25,
      "outputs": [
        {
          "output_type": "execute_result",
          "data": {
            "text/plain": [
              "[Parameter containing:\n",
              " tensor([0.3367], requires_grad=True),\n",
              " Parameter containing:\n",
              " tensor([0.1288], requires_grad=True)]"
            ]
          },
          "metadata": {},
          "execution_count": 25
        }
      ]
    },
    {
      "cell_type": "code",
      "source": [
        "model_0.state_dict()"
      ],
      "metadata": {
        "colab": {
          "base_uri": "https://localhost:8080/"
        },
        "id": "HKVOa3SNqYF_",
        "outputId": "78adf740-5456-4b65-8c60-5c65e45d84f1"
      },
      "execution_count": 26,
      "outputs": [
        {
          "output_type": "execute_result",
          "data": {
            "text/plain": [
              "OrderedDict([('weights', tensor([0.3367])), ('bias', tensor([0.1288]))])"
            ]
          },
          "metadata": {},
          "execution_count": 26
        }
      ]
    },
    {
      "cell_type": "markdown",
      "source": [
        "**MAKING PREDICTIONS USING torch.inference_mode()**\n",
        "\n",
        "we check our models predictive power using inference_mode,we will do it by finding y_preds which will be the predicted y values of our model"
      ],
      "metadata": {
        "id": "cJiYe42TgaPd"
      }
    },
    {
      "cell_type": "markdown",
      "source": [
        "InferenceMode is a context manager analogous to no_grad to be used when you are certain your operations will have no interactions with autograd (e.g., model training). Code run under this mode gets better performance by disabling view tracking and version counter bumps. Note that unlike some other mechanisms that locally enable or disable grad, entering inference_mode also disables to forward-mode AD.\n",
        "It switches off the gradient descent ie it doesnt keep a track of previously used gradients...this reduces the compile time"
      ],
      "metadata": {
        "id": "523c_5cDjFyx"
      }
    },
    {
      "cell_type": "code",
      "source": [
        "with torch.inference_mode():\n",
        "  y_preds=model_0(X_test)\n",
        "\n",
        "#torch.no_grad() also does the same job but nowadays inference mode is used more\n",
        "\n",
        "y_preds"
      ],
      "metadata": {
        "id": "86b0nh07qfMo",
        "colab": {
          "base_uri": "https://localhost:8080/"
        },
        "outputId": "fee3e3a2-b240-4cea-c769-126b17af8344"
      },
      "execution_count": 31,
      "outputs": [
        {
          "output_type": "execute_result",
          "data": {
            "text/plain": [
              "tensor([[0.3982],\n",
              "        [0.4049],\n",
              "        [0.4116],\n",
              "        [0.4184],\n",
              "        [0.4251],\n",
              "        [0.4318],\n",
              "        [0.4386],\n",
              "        [0.4453],\n",
              "        [0.4520],\n",
              "        [0.4588]])"
            ]
          },
          "metadata": {},
          "execution_count": 31
        }
      ]
    },
    {
      "cell_type": "code",
      "source": [
        "plot_predictions(predictions=y_preds) #we can see that our model is giving vvvvv varying values that our input/trained model"
      ],
      "metadata": {
        "colab": {
          "base_uri": "https://localhost:8080/",
          "height": 430
        },
        "id": "79tAQCbnhE-U",
        "outputId": "a62bf4fa-561b-482b-b967-fd56f27042e2"
      },
      "execution_count": 30,
      "outputs": [
        {
          "output_type": "display_data",
          "data": {
            "text/plain": [
              "<Figure size 640x480 with 1 Axes>"
            ],
            "image/png": "[encoded data removed]"
          },
          "metadata": {}
        }
      ]
    },
    {
      "cell_type": "markdown",
      "source": [
        "**TRAINING OUR MODEL**\n",
        "\n",
        "in training we basically we train our model to move from some \"Unknown parameters\" to \"known parameters\"\n",
        "\n",
        "We do this with the help of Loss Functions\n",
        "\n",
        "**Loss Functions** tell how bad ur models predictions are, lower the better\n",
        "\n",
        "\n",
        "**Optimizer** takes into account the loss of a model and adjusts the models parameters(weight,bias)\n",
        "\n",
        "For Pytorch we need,\n",
        "\n",
        "\n",
        "*   Training loop\n",
        "*   Testing loop\n",
        "\n",
        "There r many loss functions\n",
        "\n"
      ],
      "metadata": {
        "id": "W3oE_0Y4kK9C"
      }
    },
    {
      "cell_type": "code",
      "source": [
        "list(model_0.parameters())"
      ],
      "metadata": {
        "colab": {
          "base_uri": "https://localhost:8080/"
        },
        "id": "rlRiyJGWh5-5",
        "outputId": "393e3624-32a8-4be2-8a81-a4203edad955"
      },
      "execution_count": 34,
      "outputs": [
        {
          "output_type": "execute_result",
          "data": {
            "text/plain": [
              "[Parameter containing:\n",
              " tensor([0.3367], requires_grad=True),\n",
              " Parameter containing:\n",
              " tensor([0.1288], requires_grad=True)]"
            ]
          },
          "metadata": {},
          "execution_count": 34
        }
      ]
    },
    {
      "cell_type": "markdown",
      "source": [
        "We now have to set up an optimizer\n",
        "\n",
        "lr defines how big/small the optimizer changes the parameters with each step(small lr results in small changes,a large lr results in large changes)"
      ],
      "metadata": {
        "id": "hrO2M7R8qX_T"
      }
    },
    {
      "cell_type": "code",
      "source": [
        "loss_fn=nn.L1Loss()\n",
        " #There r many optimizers, we will used SGD model\n",
        "optimizer=torch.optim.SGD(params=model_0.parameters(),\n",
        "                          lr=0.01)\n",
        "#The learning rate is a hyperparameter that determines the size of the steps taken during optimization.\n",
        "#suppose the learning rate is 0.0001 it will effect the tensor value which was 0.3367 in such a way that only 7 in 0.3367 is effected\n",
        "\n"
      ],
      "metadata": {
        "id": "0tGrvGrmpqyy"
      },
      "execution_count": 37,
      "outputs": []
    },
    {
      "cell_type": "markdown",
      "source": [
        "Which loss function and optimizer to use, it comes with experience\n"
      ],
      "metadata": {
        "id": "N4pezuA6tAy1"
      }
    },
    {
      "cell_type": "markdown",
      "source": [
        "**BUILDING A TRAINING LOOP**\n",
        "\n",
        "A couple of things we need in a training loop:\n",
        "0. Loop through the data\n",
        "1. Forward pass (this involves data moving through our model's `forward()` functions) to make predictions on data - also called forward propagation\n",
        "2. Calculate the loss (compare forward pass predictions to ground truth labels)\n",
        "3. Optimizer zero grad\n",
        "4. Loss backward - move backwards through the network to calculate the gradients of each of the parameters of our model with respect to the loss(ie resets to first step)\n",
        "5. Optimizer step - use the optimizer to adjust our model's parameters to try and improve the loss(**Gradient descent**)"
      ],
      "metadata": {
        "id": "1_WhzdH3tKSx"
      }
    },
    {
      "cell_type": "code",
      "source": [
        "torch.manual_seed(42)\n",
        "#An epoch is one loop through the data\n",
        "epochs=1\n",
        "\n",
        "# 0. Loop through the data\n",
        "for epoch in range(epochs):\n",
        "  #set the model to training mode\n",
        "  model_0.train() # train mode in Pytorch sets all parameters that require gradients to require gradients\n",
        "\n",
        "  #1.Forward pass\n",
        "\n",
        "  y_pred=model_0(X_train)\n",
        "\n",
        "  #2.Calculate the loss\n",
        "  loss=loss_fn(y_pred,y_train) #(prediction,true_values)\n",
        "\n",
        "  # 3.Optimizer zero grad\n",
        "  optimizer.zero_grad()\n",
        "\n",
        "  #4.Perform backpropagation on the loss with respect to the parameters of the model\n",
        "  loss.backward()\n",
        "\n",
        "  #5.Step the optimizer (perform gradient descent)\n",
        "  optimizer.step()\n",
        "\n",
        "  model_0.eval() # turns off gradient tracking\n"
      ],
      "metadata": {
        "id": "Qs5O5hBstHpo"
      },
      "execution_count": 38,
      "outputs": []
    },
    {
      "cell_type": "code",
      "source": [],
      "metadata": {
        "id": "iL9GOX2ezcfa"
      },
      "execution_count": null,
      "outputs": []
    }
  ]
}