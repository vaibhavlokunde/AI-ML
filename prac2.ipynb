{
  "nbformat": 4,
  "nbformat_minor": 0,
  "metadata": {
    "colab": {
      "provenance": [],
      "authorship_tag": "ABX9TyNt5C0Ti40lzqo5Bc80ySHe",
      "include_colab_link": true
    },
    "kernelspec": {
      "name": "python3",
      "display_name": "Python 3"
    },
    "language_info": {
      "name": "python"
    }
  },
  "cells": [
    {
      "cell_type": "markdown",
      "metadata": {
        "id": "view-in-github",
        "colab_type": "text"
      },
      "source": [
        "<a href=\"https://colab.research.google.com/github/vaibhavlokunde/AI-ML/blob/main/prac2.ipynb\" target=\"_parent\"><img src=\"https://colab.research.google.com/assets/colab-badge.svg\" alt=\"Open In Colab\"/></a>"
      ]
    },
    {
      "cell_type": "code",
      "execution_count": 1,
      "metadata": {
        "id": "OqYirAApXMBn"
      },
      "outputs": [],
      "source": [
        "import torch\n",
        "import matplotlib.pyplot as plt\n",
        "import numpy as np\n",
        "import pandas as pd"
      ]
    },
    {
      "cell_type": "markdown",
      "source": [
        "**One of the most common errors in deep learning**"
      ],
      "metadata": {
        "id": "2l4SbK-waH9k"
      }
    },
    {
      "cell_type": "code",
      "source": [
        "tensor_A=torch.tensor([[1,2],[3,4],[5,6]])\n",
        "# tensor_B=torch.tensor([[7,10],[8,11],[9,12]])\n",
        "tensor_B=torch.tensor([[7,10,1],[4,5,6]])\n",
        "torch.matmul(tensor_A,tensor_B)# this will give error as the shape of both is 3x2"
      ],
      "metadata": {
        "colab": {
          "base_uri": "https://localhost:8080/"
        },
        "id": "YNsEVEK1Z2VI",
        "outputId": "509def30-4341-4e35-8d13-7677c651a1a5"
      },
      "execution_count": null,
      "outputs": [
        {
          "output_type": "execute_result",
          "data": {
            "text/plain": [
              "tensor([[15, 20, 13],\n",
              "        [37, 50, 27],\n",
              "        [59, 80, 41]])"
            ]
          },
          "metadata": {},
          "execution_count": 7
        }
      ]
    },
    {
      "cell_type": "markdown",
      "source": [
        "**TRANSPOSE**"
      ],
      "metadata": {
        "id": "IJduENQbbqOz"
      }
    },
    {
      "cell_type": "code",
      "source": [
        "tensor_B.T"
      ],
      "metadata": {
        "colab": {
          "base_uri": "https://localhost:8080/"
        },
        "id": "kPvyqJ4xaZvy",
        "outputId": "c608a5d9-d144-4dae-e9ce-a3e57e1416e9"
      },
      "execution_count": null,
      "outputs": [
        {
          "output_type": "execute_result",
          "data": {
            "text/plain": [
              "tensor([[ 7,  4],\n",
              "        [10,  5],\n",
              "        [ 1,  6]])"
            ]
          },
          "metadata": {},
          "execution_count": 8
        }
      ]
    },
    {
      "cell_type": "code",
      "source": [
        "tensor_A.shape"
      ],
      "metadata": {
        "colab": {
          "base_uri": "https://localhost:8080/"
        },
        "id": "N8ALRza2cIkL",
        "outputId": "623d31db-7745-403c-c193-75c8ffe3d3cd"
      },
      "execution_count": null,
      "outputs": [
        {
          "output_type": "execute_result",
          "data": {
            "text/plain": [
              "torch.Size([3, 2])"
            ]
          },
          "metadata": {},
          "execution_count": 9
        }
      ]
    },
    {
      "cell_type": "code",
      "source": [
        "tensor_B.shape\n"
      ],
      "metadata": {
        "colab": {
          "base_uri": "https://localhost:8080/"
        },
        "id": "EClDoe8PdHt4",
        "outputId": "d1319e3a-6453-4146-e8a7-6dd1cf1925aa"
      },
      "execution_count": null,
      "outputs": [
        {
          "output_type": "execute_result",
          "data": {
            "text/plain": [
              "torch.Size([2, 3])"
            ]
          },
          "metadata": {},
          "execution_count": 10
        }
      ]
    },
    {
      "cell_type": "markdown",
      "source": [
        "**TENSOR AGGREGATIONS(MIN,MAX,AVG)**"
      ],
      "metadata": {
        "id": "YVuNrOLoeDZ5"
      }
    },
    {
      "cell_type": "code",
      "source": [
        "# Find the min\n",
        "x=torch.arange(0,100,10)\n",
        "x\n",
        "x.min() #OR u can use torch.min(x)"
      ],
      "metadata": {
        "colab": {
          "base_uri": "https://localhost:8080/"
        },
        "id": "cl2IQA8JdJaj",
        "outputId": "9f81673d-4500-48f1-caef-a77c4dcc9324"
      },
      "execution_count": null,
      "outputs": [
        {
          "output_type": "execute_result",
          "data": {
            "text/plain": [
              "tensor(0)"
            ]
          },
          "metadata": {},
          "execution_count": 12
        }
      ]
    },
    {
      "cell_type": "code",
      "source": [
        "#Find the max\n",
        "x.max()"
      ],
      "metadata": {
        "colab": {
          "base_uri": "https://localhost:8080/"
        },
        "id": "dnoBQanveWZS",
        "outputId": "cafc0d95-b6f1-48ac-fd89-7796890a9d74"
      },
      "execution_count": null,
      "outputs": [
        {
          "output_type": "execute_result",
          "data": {
            "text/plain": [
              "tensor(90)"
            ]
          },
          "metadata": {},
          "execution_count": 13
        }
      ]
    },
    {
      "cell_type": "code",
      "source": [
        "#Find the avg\n",
        "torch.mean(x)#this throws an error as it only accepts floating point data type"
      ],
      "metadata": {
        "colab": {
          "base_uri": "https://localhost:8080/",
          "height": 176
        },
        "collapsed": true,
        "id": "6qBzSqOcehsr",
        "outputId": "ed6c4f3d-f25a-495d-f9af-8dede83fe7f6"
      },
      "execution_count": null,
      "outputs": [
        {
          "output_type": "error",
          "ename": "RuntimeError",
          "evalue": "mean(): could not infer output dtype. Input dtype must be either a floating point or complex dtype. Got: Long",
          "traceback": [
            "\u001b[0;31m---------------------------------------------------------------------------\u001b[0m",
            "\u001b[0;31mRuntimeError\u001b[0m                              Traceback (most recent call last)",
            "\u001b[0;32m<ipython-input-16-2108fd044379>\u001b[0m in \u001b[0;36m<cell line: 2>\u001b[0;34m()\u001b[0m\n\u001b[1;32m      1\u001b[0m \u001b[0;31m#Find the avg\u001b[0m\u001b[0;34m\u001b[0m\u001b[0;34m\u001b[0m\u001b[0m\n\u001b[0;32m----> 2\u001b[0;31m \u001b[0mtorch\u001b[0m\u001b[0;34m.\u001b[0m\u001b[0mmean\u001b[0m\u001b[0;34m(\u001b[0m\u001b[0mx\u001b[0m\u001b[0;34m)\u001b[0m\u001b[0;34m\u001b[0m\u001b[0;34m\u001b[0m\u001b[0m\n\u001b[0m",
            "\u001b[0;31mRuntimeError\u001b[0m: mean(): could not infer output dtype. Input dtype must be either a floating point or complex dtype. Got: Long"
          ]
        }
      ]
    },
    {
      "cell_type": "code",
      "source": [
        "torch.mean(x.type(torch.float32))"
      ],
      "metadata": {
        "colab": {
          "base_uri": "https://localhost:8080/"
        },
        "id": "aW8LPmFoelkk",
        "outputId": "ad04ccad-9717-4088-8a52-d1af07b6208c"
      },
      "execution_count": null,
      "outputs": [
        {
          "output_type": "execute_result",
          "data": {
            "text/plain": [
              "tensor(45.)"
            ]
          },
          "metadata": {},
          "execution_count": 19
        }
      ]
    },
    {
      "cell_type": "code",
      "source": [
        "torch.mean(x,dtype=torch.float32)"
      ],
      "metadata": {
        "colab": {
          "base_uri": "https://localhost:8080/"
        },
        "id": "S8OG4-Pgga3g",
        "outputId": "90b2ed9d-f787-4272-ea54-f89f33620317"
      },
      "execution_count": null,
      "outputs": [
        {
          "output_type": "execute_result",
          "data": {
            "text/plain": [
              "tensor(45.)"
            ]
          },
          "metadata": {},
          "execution_count": 20
        }
      ]
    },
    {
      "cell_type": "code",
      "source": [
        "#Find the sum\n",
        "torch.sum(x) #OR x.sum()"
      ],
      "metadata": {
        "colab": {
          "base_uri": "https://localhost:8080/"
        },
        "id": "-cTnxugfgkyQ",
        "outputId": "140d4348-b615-4274-a884-519560ef9479"
      },
      "execution_count": null,
      "outputs": [
        {
          "output_type": "execute_result",
          "data": {
            "text/plain": [
              "tensor(450)"
            ]
          },
          "metadata": {},
          "execution_count": 22
        }
      ]
    },
    {
      "cell_type": "markdown",
      "source": [
        "**FINDING THE POSITION OF MIN AND MAX**"
      ],
      "metadata": {
        "id": "zsWkyfieh49O"
      }
    },
    {
      "cell_type": "code",
      "source": [
        "#for min\n",
        "x.argmin()"
      ],
      "metadata": {
        "colab": {
          "base_uri": "https://localhost:8080/"
        },
        "id": "IjHYyuZthabS",
        "outputId": "a1cacbf2-6499-448e-f6eb-a71b9c4594e3"
      },
      "execution_count": null,
      "outputs": [
        {
          "output_type": "execute_result",
          "data": {
            "text/plain": [
              "tensor(0)"
            ]
          },
          "metadata": {},
          "execution_count": 23
        }
      ]
    },
    {
      "cell_type": "code",
      "source": [
        "#for max\n",
        "x.argmax()"
      ],
      "metadata": {
        "colab": {
          "base_uri": "https://localhost:8080/"
        },
        "id": "RoMUv_45h-Pu",
        "outputId": "5e14bd5b-19b2-4bcf-d645-29fff2d193ad"
      },
      "execution_count": null,
      "outputs": [
        {
          "output_type": "execute_result",
          "data": {
            "text/plain": [
              "tensor(9)"
            ]
          },
          "metadata": {},
          "execution_count": 24
        }
      ]
    },
    {
      "cell_type": "markdown",
      "source": [
        "**RESHAPING,STACKING,SQUEEZING AND UNSQUEEZING TENSORS**"
      ],
      "metadata": {
        "id": "42PkTj0QinBE"
      }
    },
    {
      "cell_type": "code",
      "source": [
        "#reshaping\n",
        "x=torch.arange(1.,10.)\n",
        "x,x.shape"
      ],
      "metadata": {
        "colab": {
          "base_uri": "https://localhost:8080/"
        },
        "id": "NH26YoNliAnU",
        "outputId": "6535041e-11d2-4830-c808-32384c9247a1"
      },
      "execution_count": null,
      "outputs": [
        {
          "output_type": "execute_result",
          "data": {
            "text/plain": [
              "(tensor([1., 2., 3., 4., 5., 6., 7., 8., 9.]), torch.Size([9]))"
            ]
          },
          "metadata": {},
          "execution_count": 25
        }
      ]
    },
    {
      "cell_type": "code",
      "source": [
        "x_reshaped=x.reshape(1,9)\n",
        "x_reshaped"
      ],
      "metadata": {
        "colab": {
          "base_uri": "https://localhost:8080/"
        },
        "id": "l-FhviW9ke89",
        "outputId": "d18b4233-6018-4576-e510-0793c0a75151"
      },
      "execution_count": null,
      "outputs": [
        {
          "output_type": "execute_result",
          "data": {
            "text/plain": [
              "tensor([[1., 2., 3., 4., 5., 6., 7., 8., 9.]])"
            ]
          },
          "metadata": {},
          "execution_count": 27
        }
      ]
    },
    {
      "cell_type": "code",
      "source": [
        "x_reshaped=x.reshape(9,1)\n",
        "x_reshaped"
      ],
      "metadata": {
        "colab": {
          "base_uri": "https://localhost:8080/"
        },
        "id": "qwIznaYzklYZ",
        "outputId": "dadb78a5-306c-4931-eb47-51547c9bb18b"
      },
      "execution_count": null,
      "outputs": [
        {
          "output_type": "execute_result",
          "data": {
            "text/plain": [
              "tensor([[1.],\n",
              "        [2.],\n",
              "        [3.],\n",
              "        [4.],\n",
              "        [5.],\n",
              "        [6.],\n",
              "        [7.],\n",
              "        [8.],\n",
              "        [9.]])"
            ]
          },
          "metadata": {},
          "execution_count": 28
        }
      ]
    },
    {
      "cell_type": "code",
      "source": [
        "X=torch.arange(1.,11.)\n",
        "X"
      ],
      "metadata": {
        "colab": {
          "base_uri": "https://localhost:8080/"
        },
        "id": "tNQoeZWxlVrf",
        "outputId": "3b1bd2b9-f870-4880-f089-615d19934000"
      },
      "execution_count": null,
      "outputs": [
        {
          "output_type": "execute_result",
          "data": {
            "text/plain": [
              "tensor([ 1.,  2.,  3.,  4.,  5.,  6.,  7.,  8.,  9., 10.])"
            ]
          },
          "metadata": {},
          "execution_count": 30
        }
      ]
    },
    {
      "cell_type": "code",
      "source": [
        "Xreshape=X.reshape(5,2)\n",
        "Xreshape"
      ],
      "metadata": {
        "colab": {
          "base_uri": "https://localhost:8080/"
        },
        "id": "TxmW6iFtlvEp",
        "outputId": "579129db-80de-4c96-8033-658c2b28072f"
      },
      "execution_count": null,
      "outputs": [
        {
          "output_type": "execute_result",
          "data": {
            "text/plain": [
              "tensor([[ 1.,  2.],\n",
              "        [ 3.,  4.],\n",
              "        [ 5.,  6.],\n",
              "        [ 7.,  8.],\n",
              "        [ 9., 10.]])"
            ]
          },
          "metadata": {},
          "execution_count": 31
        }
      ]
    },
    {
      "cell_type": "markdown",
      "source": [
        "**VIEW**"
      ],
      "metadata": {
        "id": "r2CK23_An9iG"
      }
    },
    {
      "cell_type": "code",
      "source": [
        "#View\n",
        "z=x.view(1,9)  #view is just like reshape but view allows z to copy x jst like it is and changes in x are also changed in z as z is a copy of x\n",
        "z,z.shape"
      ],
      "metadata": {
        "colab": {
          "base_uri": "https://localhost:8080/"
        },
        "id": "rhXhflWol1VB",
        "outputId": "9a971df2-462b-4f2a-9de2-ee488c63e6e6"
      },
      "execution_count": null,
      "outputs": [
        {
          "output_type": "execute_result",
          "data": {
            "text/plain": [
              "(tensor([[1., 2., 3., 4., 5., 6., 7., 8., 9.]]), torch.Size([1, 9]))"
            ]
          },
          "metadata": {},
          "execution_count": 32
        }
      ]
    },
    {
      "cell_type": "markdown",
      "source": [
        "**STACKING**"
      ],
      "metadata": {
        "id": "XgBHNszBn6_6"
      }
    },
    {
      "cell_type": "code",
      "source": [
        "x_stack=torch.stack([x,x,x,x],dim=0)\n",
        "x_stack"
      ],
      "metadata": {
        "colab": {
          "base_uri": "https://localhost:8080/"
        },
        "id": "lcz0qadjmm1n",
        "outputId": "87575abb-c056-4e35-8c94-2ce477efe8fb"
      },
      "execution_count": null,
      "outputs": [
        {
          "output_type": "execute_result",
          "data": {
            "text/plain": [
              "tensor([[1., 2., 3., 4., 5., 6., 7., 8., 9.],\n",
              "        [1., 2., 3., 4., 5., 6., 7., 8., 9.],\n",
              "        [1., 2., 3., 4., 5., 6., 7., 8., 9.],\n",
              "        [1., 2., 3., 4., 5., 6., 7., 8., 9.]])"
            ]
          },
          "metadata": {},
          "execution_count": 33
        }
      ]
    },
    {
      "cell_type": "code",
      "source": [
        "x_stack=torch.stack([x,x,x,x],dim=1)\n",
        "x_stack"
      ],
      "metadata": {
        "colab": {
          "base_uri": "https://localhost:8080/"
        },
        "id": "btV6f1jgn5fq",
        "outputId": "79e74462-262c-49da-820c-e97abe429986"
      },
      "execution_count": null,
      "outputs": [
        {
          "output_type": "execute_result",
          "data": {
            "text/plain": [
              "tensor([[1., 1., 1., 1.],\n",
              "        [2., 2., 2., 2.],\n",
              "        [3., 3., 3., 3.],\n",
              "        [4., 4., 4., 4.],\n",
              "        [5., 5., 5., 5.],\n",
              "        [6., 6., 6., 6.],\n",
              "        [7., 7., 7., 7.],\n",
              "        [8., 8., 8., 8.],\n",
              "        [9., 9., 9., 9.]])"
            ]
          },
          "metadata": {},
          "execution_count": 34
        }
      ]
    },
    {
      "cell_type": "markdown",
      "source": [
        "**SQUEEZE**"
      ],
      "metadata": {
        "id": "bRWjL8Tuoura"
      }
    },
    {
      "cell_type": "code",
      "source": [
        "x_reshaped=x.reshape(1,9)\n",
        "x_reshaped,x_reshaped.shape"
      ],
      "metadata": {
        "colab": {
          "base_uri": "https://localhost:8080/"
        },
        "id": "Q1j3ZE5roCqw",
        "outputId": "bea57e7a-b060-42e6-fd63-5fe5c92490b3"
      },
      "execution_count": null,
      "outputs": [
        {
          "output_type": "execute_result",
          "data": {
            "text/plain": [
              "(tensor([[1., 2., 3., 4., 5., 6., 7., 8., 9.]]), torch.Size([1, 9]))"
            ]
          },
          "metadata": {},
          "execution_count": 38
        }
      ]
    },
    {
      "cell_type": "code",
      "source": [
        "x_squeezed=x_reshaped.squeeze()\n",
        "x_squeezed #this removed one bracket...earlier it had 2 brackets"
      ],
      "metadata": {
        "colab": {
          "base_uri": "https://localhost:8080/"
        },
        "id": "S7Vp1KP7oxSQ",
        "outputId": "f7652fa1-2f49-4be9-fee8-f33314dda0e3"
      },
      "execution_count": null,
      "outputs": [
        {
          "output_type": "execute_result",
          "data": {
            "text/plain": [
              "tensor([1., 2., 3., 4., 5., 6., 7., 8., 9.])"
            ]
          },
          "metadata": {},
          "execution_count": 46
        }
      ]
    },
    {
      "cell_type": "code",
      "source": [
        "#Unsqueezing\n",
        "x_unsqueezed=x_squeezed.unsqueeze(dim=0) #dim is imp here as without it it will throw error\n",
        "x_unsqueezed"
      ],
      "metadata": {
        "colab": {
          "base_uri": "https://localhost:8080/"
        },
        "id": "10X3wZDPo5mD",
        "outputId": "567b07c4-b1e0-47df-d87f-2205b3322fd7"
      },
      "execution_count": null,
      "outputs": [
        {
          "output_type": "execute_result",
          "data": {
            "text/plain": [
              "tensor([[1., 2., 3., 4., 5., 6., 7., 8., 9.]])"
            ]
          },
          "metadata": {},
          "execution_count": 47
        }
      ]
    },
    {
      "cell_type": "markdown",
      "source": [
        "**PERMUTE**"
      ],
      "metadata": {
        "id": "sxIxCk3PsCQ9"
      }
    },
    {
      "cell_type": "code",
      "source": [
        "x_original=torch.rand(size=(224,224,3))\n",
        "x_original.size()"
      ],
      "metadata": {
        "colab": {
          "base_uri": "https://localhost:8080/"
        },
        "id": "6jZUhTS8p4-B",
        "outputId": "baa801af-8ad2-49ed-837a-7ec870d5979f"
      },
      "execution_count": null,
      "outputs": [
        {
          "output_type": "execute_result",
          "data": {
            "text/plain": [
              "torch.Size([224, 224, 3])"
            ]
          },
          "metadata": {},
          "execution_count": 51
        }
      ]
    },
    {
      "cell_type": "code",
      "source": [
        "torch.permute(x_original,(2,0,1)) #0->2  1->0  2->1"
      ],
      "metadata": {
        "colab": {
          "base_uri": "https://localhost:8080/"
        },
        "id": "xjGDu70FrzO9",
        "outputId": "cfc234c9-5fd4-441b-d863-3717973931b1"
      },
      "execution_count": null,
      "outputs": [
        {
          "output_type": "execute_result",
          "data": {
            "text/plain": [
              "tensor([[[0.0896, 0.8200, 0.8087,  ..., 0.7347, 0.1519, 0.0101],\n",
              "         [0.3960, 0.0025, 0.9516,  ..., 0.4894, 0.4184, 0.5592],\n",
              "         [0.1753, 0.0574, 0.8257,  ..., 0.9208, 0.2309, 0.1751],\n",
              "         ...,\n",
              "         [0.2058, 0.0722, 0.1654,  ..., 0.1019, 0.6621, 0.9591],\n",
              "         [0.4280, 0.7872, 0.9646,  ..., 0.7860, 0.4349, 0.2569],\n",
              "         [0.8808, 0.9705, 0.4697,  ..., 0.6110, 0.2278, 0.6213]],\n",
              "\n",
              "        [[0.4370, 0.0138, 0.7950,  ..., 0.1532, 0.4198, 0.9903],\n",
              "         [0.4188, 0.3050, 0.2721,  ..., 0.8494, 0.9201, 0.2694],\n",
              "         [0.9712, 0.4097, 0.4117,  ..., 0.9669, 0.8444, 0.7575],\n",
              "         ...,\n",
              "         [0.5545, 0.6114, 0.0161,  ..., 0.3508, 0.6134, 0.9002],\n",
              "         [0.5174, 0.2603, 0.4854,  ..., 0.1025, 0.7408, 0.7912],\n",
              "         [0.5808, 0.9283, 0.0214,  ..., 0.7748, 0.7727, 0.0530]],\n",
              "\n",
              "        [[0.1403, 0.8641, 0.9433,  ..., 0.4198, 0.9253, 0.2520],\n",
              "         [0.3761, 0.8346, 0.0300,  ..., 0.7152, 0.8989, 0.2251],\n",
              "         [0.9860, 0.4010, 0.1195,  ..., 0.3689, 0.9924, 0.1850],\n",
              "         ...,\n",
              "         [0.4625, 0.1396, 0.7523,  ..., 0.4526, 0.9985, 0.4794],\n",
              "         [0.2963, 0.9324, 0.8785,  ..., 0.2823, 0.0056, 0.1916],\n",
              "         [0.2332, 0.4420, 0.2583,  ..., 0.6510, 0.2847, 0.4783]]])"
            ]
          },
          "metadata": {},
          "execution_count": 53
        }
      ]
    },
    {
      "cell_type": "code",
      "source": [
        "torch.tensor(7)"
      ],
      "metadata": {
        "colab": {
          "base_uri": "https://localhost:8080/"
        },
        "id": "MXUGLAXPsRuv",
        "outputId": "dfe0f95f-ec0c-49b6-d682-7fb494a6dbaa"
      },
      "execution_count": null,
      "outputs": [
        {
          "output_type": "execute_result",
          "data": {
            "text/plain": [
              "tensor(7)"
            ]
          },
          "metadata": {},
          "execution_count": 54
        }
      ]
    },
    {
      "cell_type": "markdown",
      "source": [
        "**INDEXING**"
      ],
      "metadata": {
        "id": "O2hsb246GzPK"
      }
    },
    {
      "cell_type": "code",
      "source": [
        "x=torch.arange(1,10).reshape(1,3,3);\n",
        "x,x.shape"
      ],
      "metadata": {
        "id": "3hAbNx64_p-B",
        "colab": {
          "base_uri": "https://localhost:8080/"
        },
        "outputId": "61d776c5-eb1b-434e-c494-c0ca6c23979b"
      },
      "execution_count": 3,
      "outputs": [
        {
          "output_type": "execute_result",
          "data": {
            "text/plain": [
              "(tensor([[[1, 2, 3],\n",
              "          [4, 5, 6],\n",
              "          [7, 8, 9]]]),\n",
              " torch.Size([1, 3, 3]))"
            ]
          },
          "metadata": {},
          "execution_count": 3
        }
      ]
    },
    {
      "cell_type": "code",
      "source": [
        "#Indexing in tensor\n",
        "x[0] #this is in 1D"
      ],
      "metadata": {
        "colab": {
          "base_uri": "https://localhost:8080/"
        },
        "id": "gY-C1KR2G8fx",
        "outputId": "31b59416-40cc-4a99-e272-558f5d2f44b8"
      },
      "execution_count": 4,
      "outputs": [
        {
          "output_type": "execute_result",
          "data": {
            "text/plain": [
              "tensor([[1, 2, 3],\n",
              "        [4, 5, 6],\n",
              "        [7, 8, 9]])"
            ]
          },
          "metadata": {},
          "execution_count": 4
        }
      ]
    },
    {
      "cell_type": "code",
      "source": [
        "x[0][0] #this is 2D"
      ],
      "metadata": {
        "colab": {
          "base_uri": "https://localhost:8080/"
        },
        "id": "PaEmxghJHELc",
        "outputId": "ae486483-b723-45b6-acbc-9238b10f4735"
      },
      "execution_count": 5,
      "outputs": [
        {
          "output_type": "execute_result",
          "data": {
            "text/plain": [
              "tensor([1, 2, 3])"
            ]
          },
          "metadata": {},
          "execution_count": 5
        }
      ]
    },
    {
      "cell_type": "code",
      "source": [
        "x[0][0][0] #this is 3D"
      ],
      "metadata": {
        "colab": {
          "base_uri": "https://localhost:8080/"
        },
        "id": "Yp-0JnN3HMMR",
        "outputId": "64ae9589-5e73-4dbd-b51a-de5128350320"
      },
      "execution_count": 6,
      "outputs": [
        {
          "output_type": "execute_result",
          "data": {
            "text/plain": [
              "tensor(1)"
            ]
          },
          "metadata": {},
          "execution_count": 6
        }
      ]
    },
    {
      "cell_type": "code",
      "source": [
        "x[0][2][2] #to fetch 9   also x[1][2][2] this is not possible as we set the dimensions as (1,3,3) so 1 is not possible"
      ],
      "metadata": {
        "colab": {
          "base_uri": "https://localhost:8080/"
        },
        "id": "UGj8hI05HPnL",
        "outputId": "2cef8623-736f-4ac4-c7e7-fcb177f85b86"
      },
      "execution_count": 9,
      "outputs": [
        {
          "output_type": "execute_result",
          "data": {
            "text/plain": [
              "tensor(9)"
            ]
          },
          "metadata": {},
          "execution_count": 9
        }
      ]
    },
    {
      "cell_type": "code",
      "source": [
        "x[:,0],x[:,1],x[:,2]"
      ],
      "metadata": {
        "colab": {
          "base_uri": "https://localhost:8080/"
        },
        "id": "mEUZdHTbHqbd",
        "outputId": "5c32c605-67b9-41e3-f586-1bea07c831ba"
      },
      "execution_count": 15,
      "outputs": [
        {
          "output_type": "execute_result",
          "data": {
            "text/plain": [
              "(tensor([[1, 2, 3]]), tensor([[4, 5, 6]]), tensor([[7, 8, 9]]))"
            ]
          },
          "metadata": {},
          "execution_count": 15
        }
      ]
    },
    {
      "cell_type": "code",
      "source": [
        "x[:,:,0],x[:,:,1],x[:,:,2]"
      ],
      "metadata": {
        "colab": {
          "base_uri": "https://localhost:8080/"
        },
        "id": "k4jzur6hH87l",
        "outputId": "f063c241-dfa4-4329-c51f-8ac995952d10"
      },
      "execution_count": 19,
      "outputs": [
        {
          "output_type": "execute_result",
          "data": {
            "text/plain": [
              "(tensor([[1, 4, 7]]), tensor([[2, 5, 8]]), tensor([[3, 6, 9]]))"
            ]
          },
          "metadata": {},
          "execution_count": 19
        }
      ]
    },
    {
      "cell_type": "code",
      "source": [
        "#get all values from 0th dimension and get 1 index from 1st and 2nd\n",
        "x[:,1,1]"
      ],
      "metadata": {
        "colab": {
          "base_uri": "https://localhost:8080/"
        },
        "id": "dTr4F83PIRZR",
        "outputId": "abd97062-79ce-4bb1-b181-44be66a10d74"
      },
      "execution_count": 20,
      "outputs": [
        {
          "output_type": "execute_result",
          "data": {
            "text/plain": [
              "tensor([5])"
            ]
          },
          "metadata": {},
          "execution_count": 20
        }
      ]
    },
    {
      "cell_type": "markdown",
      "source": [
        "**Pytorch tensors & Numpy**\n",
        "\n",
        "\n",
        "*   Data in NumPy to Pytorch tensor->torch.from_numpy(ndarray)\n",
        "*   Pytorch to NumPy->torch.Tensor.numpy()\n",
        "\n"
      ],
      "metadata": {
        "id": "-9aTE4rNJi6W"
      }
    },
    {
      "cell_type": "code",
      "source": [
        "#From numpy to Pytorch tensor\n",
        "array=np.arange(1.0,8.0)\n",
        "tensor=torch.from_numpy(array) #numpy default is float64 so on conversion it stays the same\n",
        "array,tensor"
      ],
      "metadata": {
        "colab": {
          "base_uri": "https://localhost:8080/"
        },
        "id": "ruaeceQEIryK",
        "outputId": "68f427ea-e69d-4649-9b42-1e57fd028216"
      },
      "execution_count": 22,
      "outputs": [
        {
          "output_type": "execute_result",
          "data": {
            "text/plain": [
              "(array([1., 2., 3., 4., 5., 6., 7.]),\n",
              " tensor([1., 2., 3., 4., 5., 6., 7.], dtype=torch.float64))"
            ]
          },
          "metadata": {},
          "execution_count": 22
        }
      ]
    },
    {
      "cell_type": "code",
      "source": [
        "array=array+1\n",
        "array,tensor#no change in tensor"
      ],
      "metadata": {
        "colab": {
          "base_uri": "https://localhost:8080/"
        },
        "id": "yeqbsnhcPTUU",
        "outputId": "e172106b-0e01-46bb-bbc3-ee91ddd87ac1"
      },
      "execution_count": 24,
      "outputs": [
        {
          "output_type": "execute_result",
          "data": {
            "text/plain": [
              "(array([2., 3., 4., 5., 6., 7., 8.]), tensor([1., 1., 1., 1., 1., 1., 1.]))"
            ]
          },
          "metadata": {},
          "execution_count": 24
        }
      ]
    },
    {
      "cell_type": "code",
      "source": [
        "#from pytorch to numpy\n",
        "tensor=torch.ones(7)\n",
        "numpy_tensor=tensor.numpy()\n",
        "tensor,numpy_tensor\n"
      ],
      "metadata": {
        "colab": {
          "base_uri": "https://localhost:8080/"
        },
        "id": "T8zbaH5-O98y",
        "outputId": "dd7c0ac2-f779-4cb7-96e8-7aa24474b4b7"
      },
      "execution_count": 23,
      "outputs": [
        {
          "output_type": "execute_result",
          "data": {
            "text/plain": [
              "(tensor([1., 1., 1., 1., 1., 1., 1.]),\n",
              " array([1., 1., 1., 1., 1., 1., 1.], dtype=float32))"
            ]
          },
          "metadata": {},
          "execution_count": 23
        }
      ]
    },
    {
      "cell_type": "code",
      "source": [
        "tensor=tensor+1\n",
        "tensor,numpy_tensor #no change in numpy_tensor\n"
      ],
      "metadata": {
        "colab": {
          "base_uri": "https://localhost:8080/"
        },
        "id": "UNo4q3GEPQ2a",
        "outputId": "0e45f373-65c3-46aa-e8ed-50a63674e33f"
      },
      "execution_count": 25,
      "outputs": [
        {
          "output_type": "execute_result",
          "data": {
            "text/plain": [
              "(tensor([2., 2., 2., 2., 2., 2., 2.]),\n",
              " array([1., 1., 1., 1., 1., 1., 1.], dtype=float32))"
            ]
          },
          "metadata": {},
          "execution_count": 25
        }
      ]
    },
    {
      "cell_type": "code",
      "source": [],
      "metadata": {
        "id": "uAIyGFC7PbVI"
      },
      "execution_count": null,
      "outputs": []
    }
  ]
}