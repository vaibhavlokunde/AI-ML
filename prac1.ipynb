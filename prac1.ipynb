{
  "nbformat": 4,
  "nbformat_minor": 0,
  "metadata": {
    "colab": {
      "provenance": [],
      "gpuType": "T4",
      "authorship_tag": "ABX9TyOlrdJjJBGy3ThfwnM8I8ZJ",
      "include_colab_link": true
    },
    "kernelspec": {
      "name": "python3",
      "display_name": "Python 3"
    },
    "language_info": {
      "name": "python"
    }
  },
  "cells": [
    {
      "cell_type": "markdown",
      "metadata": {
        "id": "view-in-github",
        "colab_type": "text"
      },
      "source": [
        "<a href=\"https://colab.research.google.com/github/vaibhavlokunde/AI-ML/blob/main/prac1.ipynb\" target=\"_parent\"><img src=\"https://colab.research.google.com/assets/colab-badge.svg\" alt=\"Open In Colab\"/></a>"
      ]
    },
    {
      "cell_type": "code",
      "source": [
        "import torch\n",
        "import pandas as pd\n",
        "import numpy as np\n",
        "import matplotlib.pyplot as plt\n",
        "print(torch.__version__)"
      ],
      "metadata": {
        "colab": {
          "base_uri": "https://localhost:8080/"
        },
        "id": "UakMokMscULt",
        "outputId": "d74ab8a0-2302-4f12-9858-b67996d6552e"
      },
      "execution_count": 2,
      "outputs": [
        {
          "output_type": "stream",
          "name": "stdout",
          "text": [
            "2.5.1+cu121\n"
          ]
        }
      ]
    },
    {
      "cell_type": "markdown",
      "source": [
        "Introduction to Tensors"
      ],
      "metadata": {
        "id": "yqjJLFCWdqWi"
      }
    },
    {
      "cell_type": "markdown",
      "source": [
        "Creating Tensors"
      ],
      "metadata": {
        "id": "eD6ysWRVdykV"
      }
    },
    {
      "cell_type": "code",
      "source": [
        "#scalar type\n",
        "scalar=torch.tensor(7)\n",
        "scalar"
      ],
      "metadata": {
        "colab": {
          "base_uri": "https://localhost:8080/"
        },
        "id": "NtlUeCYfds2F",
        "outputId": "530d11d4-7c9e-4337-d19a-12aa1669b8eb"
      },
      "execution_count": null,
      "outputs": [
        {
          "output_type": "execute_result",
          "data": {
            "text/plain": [
              "tensor(7)"
            ]
          },
          "metadata": {},
          "execution_count": 4
        }
      ]
    },
    {
      "cell_type": "code",
      "source": [
        "scalar.ndim"
      ],
      "metadata": {
        "colab": {
          "base_uri": "https://localhost:8080/"
        },
        "id": "Bo8W7cqiefZC",
        "outputId": "8b808de1-1c3f-4fd0-bbf0-c1a54139c3d2"
      },
      "execution_count": null,
      "outputs": [
        {
          "output_type": "execute_result",
          "data": {
            "text/plain": [
              "0"
            ]
          },
          "metadata": {},
          "execution_count": 5
        }
      ]
    },
    {
      "cell_type": "code",
      "source": [
        "#get tensor back into python int\n",
        "scalar.item()"
      ],
      "metadata": {
        "colab": {
          "base_uri": "https://localhost:8080/"
        },
        "id": "uUVACiq4gJAG",
        "outputId": "11b1bfd8-4d62-45c0-b2a7-b305bd64bdc0"
      },
      "execution_count": null,
      "outputs": [
        {
          "output_type": "execute_result",
          "data": {
            "text/plain": [
              "7"
            ]
          },
          "metadata": {},
          "execution_count": 6
        }
      ]
    },
    {
      "cell_type": "markdown",
      "source": [
        "**VECTOR**"
      ],
      "metadata": {
        "id": "bH4IsB1ylv7_"
      }
    },
    {
      "cell_type": "code",
      "source": [
        "#vector type\n",
        "vector=torch.tensor([7,7])\n",
        "vector"
      ],
      "metadata": {
        "colab": {
          "base_uri": "https://localhost:8080/"
        },
        "id": "X4rOrUgVgVnm",
        "outputId": "ffbdd837-0775-4d68-aa80-ba973ef471ff"
      },
      "execution_count": null,
      "outputs": [
        {
          "output_type": "execute_result",
          "data": {
            "text/plain": [
              "tensor([7, 7])"
            ]
          },
          "metadata": {},
          "execution_count": 8
        }
      ]
    },
    {
      "cell_type": "code",
      "source": [
        "vector.ndim"
      ],
      "metadata": {
        "colab": {
          "base_uri": "https://localhost:8080/"
        },
        "id": "iqnVmTZigw6P",
        "outputId": "33c4818c-98ac-4a7f-a3cc-3f6de4e4a322"
      },
      "execution_count": null,
      "outputs": [
        {
          "output_type": "execute_result",
          "data": {
            "text/plain": [
              "1"
            ]
          },
          "metadata": {},
          "execution_count": 11
        }
      ]
    },
    {
      "cell_type": "code",
      "source": [
        "vector.shape"
      ],
      "metadata": {
        "colab": {
          "base_uri": "https://localhost:8080/"
        },
        "id": "Yakr0AC0g65i",
        "outputId": "1df5591d-a11b-43d5-e53c-9e492ccb25b6"
      },
      "execution_count": null,
      "outputs": [
        {
          "output_type": "execute_result",
          "data": {
            "text/plain": [
              "torch.Size([2])"
            ]
          },
          "metadata": {},
          "execution_count": 12
        }
      ]
    },
    {
      "cell_type": "markdown",
      "source": [
        "**MATRIX**"
      ],
      "metadata": {
        "id": "TVigpLSVls6k"
      }
    },
    {
      "cell_type": "code",
      "source": [
        "#MATRIX\n",
        "matrix=torch.tensor([[1,2],[3,4]])\n",
        "matrix"
      ],
      "metadata": {
        "colab": {
          "base_uri": "https://localhost:8080/"
        },
        "id": "2cGaFk03g-B_",
        "outputId": "8d5f1c5c-d372-4f9d-94ce-9527d4200500"
      },
      "execution_count": null,
      "outputs": [
        {
          "output_type": "execute_result",
          "data": {
            "text/plain": [
              "tensor([[1, 2],\n",
              "        [3, 4]])"
            ]
          },
          "metadata": {},
          "execution_count": 15
        }
      ]
    },
    {
      "cell_type": "code",
      "source": [
        "matrix.shape"
      ],
      "metadata": {
        "colab": {
          "base_uri": "https://localhost:8080/"
        },
        "id": "HaGlXX7DhHlz",
        "outputId": "d5481028-0302-42e3-b5f2-2f136b619a61"
      },
      "execution_count": null,
      "outputs": [
        {
          "output_type": "execute_result",
          "data": {
            "text/plain": [
              "torch.Size([2, 2])"
            ]
          },
          "metadata": {},
          "execution_count": 16
        }
      ]
    },
    {
      "cell_type": "code",
      "source": [
        "matrix[0]"
      ],
      "metadata": {
        "colab": {
          "base_uri": "https://localhost:8080/"
        },
        "id": "CL7l0oAohx2q",
        "outputId": "e36cbc84-055e-4d6e-c574-0c396a26a53d"
      },
      "execution_count": null,
      "outputs": [
        {
          "output_type": "execute_result",
          "data": {
            "text/plain": [
              "tensor([1, 2])"
            ]
          },
          "metadata": {},
          "execution_count": 17
        }
      ]
    },
    {
      "cell_type": "markdown",
      "source": [
        "**TENSOR**"
      ],
      "metadata": {
        "id": "ooaddqulln10"
      }
    },
    {
      "cell_type": "code",
      "source": [
        "#TENSOR\n",
        "tensor=torch.tensor([[[1,2,3],[3,4,5],[5,3,1]]])\n",
        "tensor"
      ],
      "metadata": {
        "colab": {
          "base_uri": "https://localhost:8080/"
        },
        "id": "JNj72njvivaV",
        "outputId": "fff22c58-41c7-44d9-ea41-a7877ece927f"
      },
      "execution_count": null,
      "outputs": [
        {
          "output_type": "execute_result",
          "data": {
            "text/plain": [
              "tensor([[[1, 2, 3],\n",
              "         [3, 4, 5],\n",
              "         [5, 3, 1]]])"
            ]
          },
          "metadata": {},
          "execution_count": 21
        }
      ]
    },
    {
      "cell_type": "code",
      "source": [
        "tensor.shape"
      ],
      "metadata": {
        "colab": {
          "base_uri": "https://localhost:8080/"
        },
        "id": "-cgi2PPBkmPN",
        "outputId": "d8ab7ffc-e4ef-4edd-84ff-0321d8262eb0"
      },
      "execution_count": null,
      "outputs": [
        {
          "output_type": "execute_result",
          "data": {
            "text/plain": [
              "torch.Size([1, 3, 3])"
            ]
          },
          "metadata": {},
          "execution_count": 22
        }
      ]
    },
    {
      "cell_type": "code",
      "source": [
        "tensor.ndim"
      ],
      "metadata": {
        "colab": {
          "base_uri": "https://localhost:8080/"
        },
        "id": "Zsj8tojyk8M_",
        "outputId": "4ca030c8-958a-4ac0-dc0a-60fec50262c8"
      },
      "execution_count": null,
      "outputs": [
        {
          "output_type": "execute_result",
          "data": {
            "text/plain": [
              "3"
            ]
          },
          "metadata": {},
          "execution_count": 23
        }
      ]
    },
    {
      "cell_type": "code",
      "source": [
        "tensor[0]"
      ],
      "metadata": {
        "colab": {
          "base_uri": "https://localhost:8080/"
        },
        "id": "in3Lbf6ilj4j",
        "outputId": "b83afcd4-5b54-4724-d734-d19b28e1f156"
      },
      "execution_count": null,
      "outputs": [
        {
          "output_type": "execute_result",
          "data": {
            "text/plain": [
              "tensor([[1, 2, 3],\n",
              "        [3, 4, 5],\n",
              "        [5, 3, 1]])"
            ]
          },
          "metadata": {},
          "execution_count": 24
        }
      ]
    },
    {
      "cell_type": "markdown",
      "source": [
        "RANDOM **TENSORS**"
      ],
      "metadata": {
        "id": "BYTpJnRNna5l"
      }
    },
    {
      "cell_type": "code",
      "source": [
        "random_tensor=torch.rand(3,4)\n",
        "random_tensor"
      ],
      "metadata": {
        "colab": {
          "base_uri": "https://localhost:8080/"
        },
        "id": "8hiWG3fwlmQ7",
        "outputId": "011c04cc-f5e5-4fce-be40-5ab64f1b0b1e"
      },
      "execution_count": null,
      "outputs": [
        {
          "output_type": "execute_result",
          "data": {
            "text/plain": [
              "tensor([[0.2091, 0.7966, 0.5061, 0.7066],\n",
              "        [0.6755, 0.0071, 0.6497, 0.5918],\n",
              "        [0.8326, 0.8748, 0.1632, 0.6762]])"
            ]
          },
          "metadata": {},
          "execution_count": 27
        }
      ]
    },
    {
      "cell_type": "code",
      "source": [
        "random_tensor.ndim"
      ],
      "metadata": {
        "colab": {
          "base_uri": "https://localhost:8080/"
        },
        "id": "nOltqZgKn5Ee",
        "outputId": "3f71f6fe-45df-4485-c2db-42f15d3d3b8c"
      },
      "execution_count": null,
      "outputs": [
        {
          "output_type": "execute_result",
          "data": {
            "text/plain": [
              "2"
            ]
          },
          "metadata": {},
          "execution_count": 28
        }
      ]
    },
    {
      "cell_type": "markdown",
      "source": [
        "**CREATING A RANDOM TENSOR WITH SIMILAR SHAPE TO AN IMAGE TENSOR**"
      ],
      "metadata": {
        "id": "etWVfTjppLwr"
      }
    },
    {
      "cell_type": "code",
      "source": [
        "random_image=torch.rand(size=(224,224,3)) #height,width,color channels\n",
        "random_image.shape,\n",
        "random_image.ndim"
      ],
      "metadata": {
        "colab": {
          "base_uri": "https://localhost:8080/"
        },
        "id": "CuNoHErlo2oc",
        "outputId": "d12e3983-977f-493e-c362-224b82f2ff0d"
      },
      "execution_count": null,
      "outputs": [
        {
          "output_type": "execute_result",
          "data": {
            "text/plain": [
              "3"
            ]
          },
          "metadata": {},
          "execution_count": 5
        }
      ]
    },
    {
      "cell_type": "markdown",
      "source": [
        "**CREATING A TENSOR WITH ALL ZEROS**"
      ],
      "metadata": {
        "id": "se583trhrCEA"
      }
    },
    {
      "cell_type": "code",
      "source": [
        "zeros=torch.zeros(size=(3,4))\n",
        "zeros"
      ],
      "metadata": {
        "colab": {
          "base_uri": "https://localhost:8080/"
        },
        "id": "jNBSwsyEpfov",
        "outputId": "84b201b9-7364-4430-9c66-91724866c9a3"
      },
      "execution_count": null,
      "outputs": [
        {
          "output_type": "execute_result",
          "data": {
            "text/plain": [
              "tensor([[0., 0., 0., 0.],\n",
              "        [0., 0., 0., 0.],\n",
              "        [0., 0., 0., 0.]])"
            ]
          },
          "metadata": {},
          "execution_count": 6
        }
      ]
    },
    {
      "cell_type": "markdown",
      "source": [
        "**CREATING A TENSOR WITH ALL ONES**"
      ],
      "metadata": {
        "id": "ANr19l5nraq1"
      }
    },
    {
      "cell_type": "code",
      "source": [
        "ones=torch.ones(size=(3,4))\n",
        "ones"
      ],
      "metadata": {
        "colab": {
          "base_uri": "https://localhost:8080/"
        },
        "id": "tV7AjjCjrLQ6",
        "outputId": "6ad4572c-50b5-42a8-8a24-0366d8e21144"
      },
      "execution_count": null,
      "outputs": [
        {
          "output_type": "execute_result",
          "data": {
            "text/plain": [
              "tensor([[1., 1., 1., 1.],\n",
              "        [1., 1., 1., 1.],\n",
              "        [1., 1., 1., 1.]])"
            ]
          },
          "metadata": {},
          "execution_count": 7
        }
      ]
    },
    {
      "cell_type": "markdown",
      "source": [
        "**CREATING A RANGE OF TENSORS**"
      ],
      "metadata": {
        "id": "_x5CGFbEtSL2"
      }
    },
    {
      "cell_type": "code",
      "source": [
        "##there are 2 types torch.range(1,10) and torch.arange(1,10)\n",
        "##..but torch.range will be removed\n",
        "torch.arange(1,10)"
      ],
      "metadata": {
        "colab": {
          "base_uri": "https://localhost:8080/"
        },
        "id": "K1obEto8rh5B",
        "outputId": "2469b46a-dc49-46bb-bed6-fe5523ecda85"
      },
      "execution_count": null,
      "outputs": [
        {
          "output_type": "execute_result",
          "data": {
            "text/plain": [
              "tensor([1, 2, 3, 4, 5, 6, 7, 8, 9])"
            ]
          },
          "metadata": {},
          "execution_count": 10
        }
      ]
    },
    {
      "cell_type": "code",
      "source": [
        "one_to_ten=torch.arange(1,20,2)\n",
        "one_to_ten"
      ],
      "metadata": {
        "colab": {
          "base_uri": "https://localhost:8080/"
        },
        "id": "6VoBNwf4tcwm",
        "outputId": "d4d7e063-e430-45f1-9736-5558ba88249f"
      },
      "execution_count": null,
      "outputs": [
        {
          "output_type": "execute_result",
          "data": {
            "text/plain": [
              "tensor([ 1,  3,  5,  7,  9, 11, 13, 15, 17, 19])"
            ]
          },
          "metadata": {},
          "execution_count": 11
        }
      ]
    },
    {
      "cell_type": "code",
      "source": [
        "##Creating tensors like\n",
        "ten_zeros=torch.zeros_like(one_to_ten)\n",
        "#OR torch.zeros_like(input=one_to_ten)\n",
        "ten_zeros"
      ],
      "metadata": {
        "colab": {
          "base_uri": "https://localhost:8080/"
        },
        "id": "o7JxnFlyuAMF",
        "outputId": "269f0268-1671-4c24-a837-e5d493abf93f"
      },
      "execution_count": null,
      "outputs": [
        {
          "output_type": "execute_result",
          "data": {
            "text/plain": [
              "tensor([0, 0, 0, 0, 0, 0, 0, 0, 0, 0])"
            ]
          },
          "metadata": {},
          "execution_count": 15
        }
      ]
    },
    {
      "cell_type": "markdown",
      "source": [
        "**TENSOR DATATYPES**\n",
        "float 32\"\n",
        "they are used when we have to change datatypes while training models"
      ],
      "metadata": {
        "id": "jY-qjkbR0Bwy"
      }
    },
    {
      "cell_type": "code",
      "source": [
        "float_32_tensor=torch.tensor([3.0,6.0,9.0],\n",
        "                             dtype=None,#what datatype is the tensor(float32,float16)\n",
        "                             device=None, #what device is your tensor on\n",
        "                             requires_grad=False)#whether or not to track gradience\n",
        "float_32_tensor"
      ],
      "metadata": {
        "id": "Gn97PfNRuWWV",
        "colab": {
          "base_uri": "https://localhost:8080/"
        },
        "outputId": "ee92622c-f62e-47b2-90f1-8de610f779d4"
      },
      "execution_count": 3,
      "outputs": [
        {
          "output_type": "execute_result",
          "data": {
            "text/plain": [
              "tensor([3., 6., 9.])"
            ]
          },
          "metadata": {},
          "execution_count": 3
        }
      ]
    },
    {
      "cell_type": "code",
      "source": [
        "float_32_tensor.dtype"
      ],
      "metadata": {
        "colab": {
          "base_uri": "https://localhost:8080/"
        },
        "id": "D2X20fnz0YZs",
        "outputId": "f087ec08-561a-4fe9-a1fd-38bea2876ce8"
      },
      "execution_count": 4,
      "outputs": [
        {
          "output_type": "execute_result",
          "data": {
            "text/plain": [
              "torch.float32"
            ]
          },
          "metadata": {},
          "execution_count": 4
        }
      ]
    },
    {
      "cell_type": "markdown",
      "source": [
        "**FLOAT 16 DTYPE**"
      ],
      "metadata": {
        "id": "xF8eqnZO2w33"
      }
    },
    {
      "cell_type": "code",
      "source": [
        "float_16_tensor=float_32_tensor.type(torch.float16) # OR .type(torch.half) is the same\n",
        "float_16_tensor"
      ],
      "metadata": {
        "colab": {
          "base_uri": "https://localhost:8080/"
        },
        "id": "VIYkoUim2HHw",
        "outputId": "4b157537-444d-4d0f-94c9-eae0a5349dd1"
      },
      "execution_count": 5,
      "outputs": [
        {
          "output_type": "execute_result",
          "data": {
            "text/plain": [
              "tensor([3., 6., 9.], dtype=torch.float16)"
            ]
          },
          "metadata": {},
          "execution_count": 5
        }
      ]
    },
    {
      "cell_type": "code",
      "source": [
        "float_16_tensor=torch.tensor([3.0,7.0,8.0],\n",
        "                             dtype=torch.float16,\n",
        "                             device=None,\n",
        "                             requires_grad=False\n",
        "                             )\n",
        "float_16_tensor"
      ],
      "metadata": {
        "colab": {
          "base_uri": "https://localhost:8080/"
        },
        "id": "IxKLVgm22Z0n",
        "outputId": "a0929ecb-9ea9-48ac-8078-04e92bcdef13"
      },
      "execution_count": 7,
      "outputs": [
        {
          "output_type": "execute_result",
          "data": {
            "text/plain": [
              "tensor([3., 7., 8.], dtype=torch.float16)"
            ]
          },
          "metadata": {},
          "execution_count": 7
        }
      ]
    },
    {
      "cell_type": "code",
      "source": [
        "float_16_tensor * float_32_tensor"
      ],
      "metadata": {
        "colab": {
          "base_uri": "https://localhost:8080/"
        },
        "id": "jvDYD1DX3aGL",
        "outputId": "27139f15-dc01-40c8-db74-a284b4039c8d"
      },
      "execution_count": 8,
      "outputs": [
        {
          "output_type": "execute_result",
          "data": {
            "text/plain": [
              "tensor([ 9., 42., 72.])"
            ]
          },
          "metadata": {},
          "execution_count": 8
        }
      ]
    },
    {
      "cell_type": "markdown",
      "source": [
        "**INT dTYPE**"
      ],
      "metadata": {
        "id": "KOS4OouI5KcK"
      }
    },
    {
      "cell_type": "code",
      "source": [
        "int_32_tensor=torch.tensor([3,6,9],\n",
        "                           dtype=torch.int32,\n",
        "                           device=None,\n",
        "                           requires_grad=False)\n",
        "int_32_tensor"
      ],
      "metadata": {
        "colab": {
          "base_uri": "https://localhost:8080/"
        },
        "id": "FUBDrmLR3zxV",
        "outputId": "8c5bdecf-e8e5-41dc-8639-7ca699acb27f"
      },
      "execution_count": 10,
      "outputs": [
        {
          "output_type": "execute_result",
          "data": {
            "text/plain": [
              "tensor([3, 6, 9], dtype=torch.int32)"
            ]
          },
          "metadata": {},
          "execution_count": 10
        }
      ]
    },
    {
      "cell_type": "code",
      "source": [
        "int_32_tensor * float_32_tensor"
      ],
      "metadata": {
        "colab": {
          "base_uri": "https://localhost:8080/"
        },
        "id": "NrNAecH25cEO",
        "outputId": "0487d683-799a-4ab3-b411-3e7dc681c727"
      },
      "execution_count": 11,
      "outputs": [
        {
          "output_type": "execute_result",
          "data": {
            "text/plain": [
              "tensor([ 9., 36., 81.])"
            ]
          },
          "metadata": {},
          "execution_count": 11
        }
      ]
    },
    {
      "cell_type": "markdown",
      "source": [
        "Following are few errors that might come while training models\n",
        "\n",
        "1.   Tensors not in right datatype(use tensor.dtype)\n",
        "2.   Tensors not in right shape(use tensor.shape)\n",
        "3.   Tensors not on right device(use tensor.device)\n",
        "\n",
        "\n",
        "\n",
        "\n"
      ],
      "metadata": {
        "id": "Q2R_LVu96uit"
      }
    },
    {
      "cell_type": "markdown",
      "source": [
        "**Example of getting info from tensors**"
      ],
      "metadata": {
        "id": "7fdK0SG571hC"
      }
    },
    {
      "cell_type": "code",
      "source": [
        "some_tensor=torch.rand(3,4)\n",
        "some_tensor"
      ],
      "metadata": {
        "colab": {
          "base_uri": "https://localhost:8080/"
        },
        "id": "beopBikt5ix2",
        "outputId": "66330e40-21c2-42bd-c174-f1c3864a4033"
      },
      "execution_count": 12,
      "outputs": [
        {
          "output_type": "execute_result",
          "data": {
            "text/plain": [
              "tensor([[0.6683, 0.9996, 0.8064, 0.7417],\n",
              "        [0.9231, 0.5285, 0.9329, 0.5427],\n",
              "        [0.6008, 0.6156, 0.3900, 0.1785]])"
            ]
          },
          "metadata": {},
          "execution_count": 12
        }
      ]
    },
    {
      "cell_type": "code",
      "source": [
        "print(some_tensor)\n",
        "print(f\"data type:{some_tensor.dtype}\")\n",
        "print(f\"shape type:{some_tensor.shape}\")"
      ],
      "metadata": {
        "colab": {
          "base_uri": "https://localhost:8080/"
        },
        "id": "vOd2kbgQ8D2M",
        "outputId": "9093718e-2dfa-45fe-a89b-413d93cbf6af"
      },
      "execution_count": 13,
      "outputs": [
        {
          "output_type": "stream",
          "name": "stdout",
          "text": [
            "tensor([[0.6683, 0.9996, 0.8064, 0.7417],\n",
            "        [0.9231, 0.5285, 0.9329, 0.5427],\n",
            "        [0.6008, 0.6156, 0.3900, 0.1785]])\n",
            "data type:torch.float32\n",
            "shape type:torch.Size([3, 4])\n"
          ]
        }
      ]
    },
    {
      "cell_type": "code",
      "source": [
        "some_tensor.shape"
      ],
      "metadata": {
        "colab": {
          "base_uri": "https://localhost:8080/"
        },
        "id": "fXG_XXI58WRQ",
        "outputId": "38e3fe2b-7180-4857-f8c9-1c3d09c46364"
      },
      "execution_count": 14,
      "outputs": [
        {
          "output_type": "execute_result",
          "data": {
            "text/plain": [
              "torch.Size([3, 4])"
            ]
          },
          "metadata": {},
          "execution_count": 14
        }
      ]
    },
    {
      "cell_type": "code",
      "source": [
        "some_tensor.size"
      ],
      "metadata": {
        "colab": {
          "base_uri": "https://localhost:8080/"
        },
        "id": "qUhCpeWL8xCd",
        "outputId": "20af1ed6-625d-45ea-f5f0-b07dca4927ad"
      },
      "execution_count": 15,
      "outputs": [
        {
          "output_type": "execute_result",
          "data": {
            "text/plain": [
              "<function Tensor.size>"
            ]
          },
          "metadata": {},
          "execution_count": 15
        }
      ]
    },
    {
      "cell_type": "markdown",
      "source": [
        "**MANIPULATING TENSORS**"
      ],
      "metadata": {
        "id": "JwevTZbZ-0G1"
      }
    },
    {
      "cell_type": "markdown",
      "source": [
        "Addition"
      ],
      "metadata": {
        "id": "s0locIx7-91t"
      }
    },
    {
      "cell_type": "code",
      "source": [
        "Tensor=torch.tensor([1,2,3])\n",
        "Tensor+10"
      ],
      "metadata": {
        "colab": {
          "base_uri": "https://localhost:8080/"
        },
        "id": "SHDZP-Xn8z-6",
        "outputId": "54da8185-cc17-439b-a664-b2ab919a0b8a"
      },
      "execution_count": 16,
      "outputs": [
        {
          "output_type": "execute_result",
          "data": {
            "text/plain": [
              "tensor([11, 12, 13])"
            ]
          },
          "metadata": {},
          "execution_count": 16
        }
      ]
    },
    {
      "cell_type": "code",
      "source": [
        "Tensor-10"
      ],
      "metadata": {
        "colab": {
          "base_uri": "https://localhost:8080/"
        },
        "id": "J3fPi2q4_H0g",
        "outputId": "298b116a-4ee3-466b-c468-f887245390a9"
      },
      "execution_count": 17,
      "outputs": [
        {
          "output_type": "execute_result",
          "data": {
            "text/plain": [
              "tensor([-9, -8, -7])"
            ]
          },
          "metadata": {},
          "execution_count": 17
        }
      ]
    },
    {
      "cell_type": "code",
      "source": [
        "torch.add(Tensor,10)"
      ],
      "metadata": {
        "colab": {
          "base_uri": "https://localhost:8080/"
        },
        "id": "yLXMd25y_KUB",
        "outputId": "ca74094b-2fd8-4ceb-d928-9b1fbe54d4ca"
      },
      "execution_count": 18,
      "outputs": [
        {
          "output_type": "execute_result",
          "data": {
            "text/plain": [
              "tensor([11, 12, 13])"
            ]
          },
          "metadata": {},
          "execution_count": 18
        }
      ]
    },
    {
      "cell_type": "code",
      "source": [
        "torch.sub(Tensor,10)"
      ],
      "metadata": {
        "colab": {
          "base_uri": "https://localhost:8080/"
        },
        "id": "ZVQ1lSxp_PW_",
        "outputId": "f117c743-227e-46ab-bf15-de76188346a3"
      },
      "execution_count": 19,
      "outputs": [
        {
          "output_type": "execute_result",
          "data": {
            "text/plain": [
              "tensor([-9, -8, -7])"
            ]
          },
          "metadata": {},
          "execution_count": 19
        }
      ]
    },
    {
      "cell_type": "code",
      "source": [
        "torch.div(Tensor,10)"
      ],
      "metadata": {
        "colab": {
          "base_uri": "https://localhost:8080/"
        },
        "id": "Qubji3Nx_aPc",
        "outputId": "75c6e81e-0ebb-4e56-f6f4-bb32e94f6e32"
      },
      "execution_count": 20,
      "outputs": [
        {
          "output_type": "execute_result",
          "data": {
            "text/plain": [
              "tensor([0.1000, 0.2000, 0.3000])"
            ]
          },
          "metadata": {},
          "execution_count": 20
        }
      ]
    },
    {
      "cell_type": "markdown",
      "source": [
        "**MATRIX MULTIPLICATION**\n",
        "\n",
        "*   Two main ways of matrix mul\n",
        "\n",
        "1.   element-wise\n",
        "2.   dot prod\n",
        "\n",
        "\n",
        "\n"
      ],
      "metadata": {
        "id": "PNVqRDiWAHiU"
      }
    },
    {
      "cell_type": "code",
      "source": [
        "#element wise\n",
        "Tensor * Tensor"
      ],
      "metadata": {
        "colab": {
          "base_uri": "https://localhost:8080/"
        },
        "id": "sCbHjWJa_idO",
        "outputId": "5c60538c-39c4-4d9e-a7bc-c4e5845a7b06"
      },
      "execution_count": 22,
      "outputs": [
        {
          "output_type": "execute_result",
          "data": {
            "text/plain": [
              "tensor([1, 4, 9])"
            ]
          },
          "metadata": {},
          "execution_count": 22
        }
      ]
    },
    {
      "cell_type": "code",
      "source": [
        "#dot product\n",
        "torch.matmul(Tensor,Tensor)"
      ],
      "metadata": {
        "colab": {
          "base_uri": "https://localhost:8080/"
        },
        "id": "TH0LGt37B2Cw",
        "outputId": "fb751ef4-d81e-4750-eae9-d365b7fd0f63"
      },
      "execution_count": 23,
      "outputs": [
        {
          "output_type": "execute_result",
          "data": {
            "text/plain": [
              "tensor(14)"
            ]
          },
          "metadata": {},
          "execution_count": 23
        }
      ]
    },
    {
      "cell_type": "code",
      "source": [
        "torch.matmul(torch.rand(10,10),torch.rand(10,4))"
      ],
      "metadata": {
        "colab": {
          "base_uri": "https://localhost:8080/"
        },
        "id": "62UHrA4_CDtG",
        "outputId": "8dd2f1d6-4f28-49e4-bc77-ec1dae7af1cb"
      },
      "execution_count": 3,
      "outputs": [
        {
          "output_type": "execute_result",
          "data": {
            "text/plain": [
              "tensor([[2.0587, 1.5090, 2.4909, 2.1779],\n",
              "        [2.5106, 2.1467, 3.3058, 2.1948],\n",
              "        [2.8585, 2.6218, 3.1067, 2.7271],\n",
              "        [1.9562, 1.4215, 1.7293, 1.5497],\n",
              "        [2.5455, 2.1822, 3.1528, 2.6095],\n",
              "        [2.6313, 2.1329, 2.7108, 2.5269],\n",
              "        [3.1539, 2.7881, 2.9924, 2.7269],\n",
              "        [2.2746, 2.0668, 2.5790, 2.1520],\n",
              "        [2.1520, 2.3353, 3.2940, 2.9576],\n",
              "        [3.4242, 3.6457, 4.7413, 4.2230]])"
            ]
          },
          "metadata": {},
          "execution_count": 3
        }
      ]
    },
    {
      "cell_type": "code",
      "source": [],
      "metadata": {
        "id": "Tz5bQ4OoWoWp"
      },
      "execution_count": null,
      "outputs": []
    }
  ]
}