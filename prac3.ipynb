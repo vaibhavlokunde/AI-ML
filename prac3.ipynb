{
  "nbformat": 4,
  "nbformat_minor": 0,
  "metadata": {
    "colab": {
      "provenance": [],
      "authorship_tag": "ABX9TyMN52P+E2k3Nk712DAykDQn",
      "include_colab_link": true
    },
    "kernelspec": {
      "name": "python3",
      "display_name": "Python 3"
    },
    "language_info": {
      "name": "python"
    }
  },
  "cells": [
    {
      "cell_type": "markdown",
      "metadata": {
        "id": "view-in-github",
        "colab_type": "text"
      },
      "source": [
        "<a href=\"https://colab.research.google.com/github/vaibhavlokunde/AI-ML/blob/main/prac3.ipynb\" target=\"_parent\"><img src=\"https://colab.research.google.com/assets/colab-badge.svg\" alt=\"Open In Colab\"/></a>"
      ]
    },
    {
      "cell_type": "markdown",
      "source": [
        "##Reproducibility(trying to take random out of random)\n",
        "this is how neural networks work:\n",
        "\n",
        "start with random numbers -> tensor op ->update random numbers to try and make them of the data -> again -> again\n",
        "\n",
        "To reduce the randomness in neural networks and Pytorch comes the concept of random seed.\n",
        "\n"
      ],
      "metadata": {
        "id": "w0vaL-_kS_ib"
      }
    },
    {
      "cell_type": "code",
      "execution_count": 1,
      "metadata": {
        "id": "5YnBbi3wPu4h"
      },
      "outputs": [],
      "source": [
        "import torch\n",
        "import matplotlib.pyplot as plt\n",
        "import numpy as np\n",
        "import pandas as pd"
      ]
    },
    {
      "cell_type": "code",
      "source": [
        "tensor_A=torch.rand(3,4)\n",
        "tensor_B=torch.rand(3,4) # This gives random values all the time\n",
        "tensor_A,tensor_B\n"
      ],
      "metadata": {
        "colab": {
          "base_uri": "https://localhost:8080/"
        },
        "id": "FjM7-DzDPwye",
        "outputId": "02ff79ec-ddc7-45bc-f1ba-f36112f1d26b"
      },
      "execution_count": 2,
      "outputs": [
        {
          "output_type": "execute_result",
          "data": {
            "text/plain": [
              "(tensor([[0.8890, 0.1847, 0.9122, 0.2454],\n",
              "         [0.0009, 0.8317, 0.3268, 0.0358],\n",
              "         [0.1390, 0.7667, 0.0505, 0.0261]]),\n",
              " tensor([[0.8832, 0.0485, 0.2321, 0.4841],\n",
              "         [0.7579, 0.6761, 0.7253, 0.9701],\n",
              "         [0.0808, 0.2218, 0.3803, 0.5342]]))"
            ]
          },
          "metadata": {},
          "execution_count": 2
        }
      ]
    },
    {
      "cell_type": "markdown",
      "source": [
        "RANDOM_SEED = 42 is assigning the value 42 to the variable RANDOM_SEED. This value is then used in torch.manual_seed(RANDOM_SEED) to set the seed for PyTorch's random number generator.\n",
        "\n",
        "By setting the seed to 42, all subsequent random operations (like generating random tensors with torch.rand) will produce the same results every time the code is run, ensuring reproducibility. The line tensor_A = torch.rand(3, 4) creates a 3x4 tensor of random values based on this fixed seed."
      ],
      "metadata": {
        "id": "P_j_-3mvWIR4"
      }
    },
    {
      "cell_type": "code",
      "source": [
        "#Thus to reduce the randomness and making sure we get the same value we use manual seed\n",
        "RANDOM_SEED=42\n",
        "torch.manual_seed(RANDOM_SEED)\n",
        "tensor_A=torch.rand(3,4)\n",
        "torch.manual_seed(RANDOM_SEED)\n",
        "tensor_B=torch.rand(3,4)\n",
        "print(tensor_A)\n",
        "print(tensor_B)\n",
        "print(tensor_A==tensor_B)"
      ],
      "metadata": {
        "colab": {
          "base_uri": "https://localhost:8080/"
        },
        "id": "2X2KMH3tVMGu",
        "outputId": "fde30156-fa6c-4cf0-90cf-460265822a69"
      },
      "execution_count": 6,
      "outputs": [
        {
          "output_type": "stream",
          "name": "stdout",
          "text": [
            "tensor([[0.8823, 0.9150, 0.3829, 0.9593],\n",
            "        [0.3904, 0.6009, 0.2566, 0.7936],\n",
            "        [0.9408, 0.1332, 0.9346, 0.5936]])\n",
            "tensor([[0.8823, 0.9150, 0.3829, 0.9593],\n",
            "        [0.3904, 0.6009, 0.2566, 0.7936],\n",
            "        [0.9408, 0.1332, 0.9346, 0.5936]])\n",
            "tensor([[True, True, True, True],\n",
            "        [True, True, True, True],\n",
            "        [True, True, True, True]])\n"
          ]
        }
      ]
    },
    {
      "cell_type": "code",
      "source": [
        "#Setup Device agnostic code\n",
        "device=\"cuda\" if torch.cuda.is_available() else \"cpu\"\n",
        "device"
      ],
      "metadata": {
        "colab": {
          "base_uri": "https://localhost:8080/",
          "height": 36
        },
        "id": "u1oMnM5Bd1PJ",
        "outputId": "0bbc7b20-f085-47d8-bd46-4c17eb539407"
      },
      "execution_count": 4,
      "outputs": [
        {
          "output_type": "execute_result",
          "data": {
            "text/plain": [
              "'cuda'"
            ],
            "application/vnd.google.colaboratory.intrinsic+json": {
              "type": "string"
            }
          },
          "metadata": {},
          "execution_count": 4
        }
      ]
    },
    {
      "cell_type": "code",
      "source": [
        "tensor=torch.tensor([1,2,3])\n",
        "print(tensor,tensor.device)\n",
        "#Move tensor to GPU(if available)\n",
        "tensor_on_gpu = tensor.to(device)\n",
        "tensor_on_gpu"
      ],
      "metadata": {
        "colab": {
          "base_uri": "https://localhost:8080/"
        },
        "id": "CVozxrF6VpRP",
        "outputId": "f3469068-cccd-492c-acc1-ffcf13875786"
      },
      "execution_count": 7,
      "outputs": [
        {
          "output_type": "stream",
          "name": "stdout",
          "text": [
            "tensor([1, 2, 3]) cpu\n"
          ]
        },
        {
          "output_type": "execute_result",
          "data": {
            "text/plain": [
              "tensor([1, 2, 3], device='cuda:0')"
            ]
          },
          "metadata": {},
          "execution_count": 7
        }
      ]
    },
    {
      "cell_type": "code",
      "source": [],
      "metadata": {
        "id": "-eABs2TadS5D"
      },
      "execution_count": null,
      "outputs": []
    }
  ]
}